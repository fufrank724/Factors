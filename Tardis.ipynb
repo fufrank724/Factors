{
 "cells": [
  {
   "cell_type": "code",
   "execution_count": 2,
   "metadata": {},
   "outputs": [],
   "source": [
    "from util.backtest import *\n",
    "from util.factor_util import *\n",
    "import matplotlib.pyplot as plt\n",
    "from matplotlib import cm\n",
    "import itertools\n",
    "from tqdm import tqdm\n",
    "import asyncio\n",
    "from tardis_client import TardisClient, Channel\n",
    "from binance.client import Client\n"
   ]
  },
  {
   "cell_type": "code",
   "execution_count": null,
   "metadata": {},
   "outputs": [],
   "source": []
  },
  {
   "cell_type": "code",
   "execution_count": 2,
   "metadata": {},
   "outputs": [
    {
     "data": {
      "text/plain": [
       "dict_keys(['id', 'name', 'enabled', 'availableSince', 'availableChannels', 'availableSymbols', 'datasets', 'incidentReports'])"
      ]
     },
     "execution_count": 2,
     "metadata": {},
     "output_type": "execute_result"
    }
   ],
   "source": [
    "url = 'https://api.tardis.dev/v1/exchanges/binance-futures'\n",
    "\n",
    "result = requests.get(url).json()\n",
    "result.keys()"
   ]
  },
  {
   "cell_type": "code",
   "execution_count": 3,
   "metadata": {},
   "outputs": [
    {
     "name": "stdout",
     "output_type": "stream",
     "text": [
      "['btcusdt', 'ethusdt', 'bchusdt', 'xrpusdt', 'eosusdt']\n"
     ]
    },
    {
     "data": {
      "text/plain": [
       "175"
      ]
     },
     "execution_count": 3,
     "metadata": {},
     "output_type": "execute_result"
    }
   ],
   "source": [
    "usdt_symbols = [sym['id'] for sym in result['availableSymbols'] if 'usdt' in sym['id'] and sym['type']=='perpetual']\n",
    "print(usdt_symbols[:5])\n",
    "len(usdt_symbols)\n"
   ]
  },
  {
   "cell_type": "code",
   "execution_count": 3,
   "metadata": {},
   "outputs": [],
   "source": [
    "dt = pd.date_range(start='2023/2/1', end='2023/2/2',freq = 'D')"
   ]
  },
  {
   "cell_type": "code",
   "execution_count": 3,
   "metadata": {},
   "outputs": [],
   "source": [
    "tardis_client = TardisClient(api_key=\"TD.bGGkN0U-Q23J11Fg.BM25zW2D02TrP1J.QPwJos8qqNCSsqF.TX4WVlWhyd6WOOQ.ISFXAVw3BXatkSZ.1tLt\")\n",
    "\n",
    "messages = tardis_client.replay(\n",
    "exchange=\"binance-futures\",\n",
    "from_date=\"2023-01-01\",\n",
    "to_date=\"2023-01-02\",\n",
    "filters=[Channel(name=\"topLongShortAccountRatio\", symbols=[\"sandusdt\"])]\n",
    ")"
   ]
  },
  {
   "cell_type": "code",
   "execution_count": null,
   "metadata": {},
   "outputs": [],
   "source": [
    "async for local_timestamp, message in messages:\n",
    "    print(local_timestamp,int(local_timestamp.timestamp()*1000) + 8*3600 *1000,message)\n"
   ]
  },
  {
   "cell_type": "code",
   "execution_count": 8,
   "metadata": {},
   "outputs": [
    {
     "data": {
      "text/plain": [
       "{'symbol': 'AXSUSDT',\n",
       " 'longAccount': '0.6678',\n",
       " 'longShortRatio': '2.0102',\n",
       " 'shortAccount': '0.3322',\n",
       " 'timestamp': 1672617000000,\n",
       " 'receive_timestamp': 1672588755713}"
      ]
     },
     "execution_count": 8,
     "metadata": {},
     "output_type": "execute_result"
    }
   ],
   "source": [
    "data = message['data']\n",
    "data['receive_timestamp'] = int(local_timestamp.timestamp()*1000)\n",
    "data"
   ]
  },
  {
   "cell_type": "code",
   "execution_count": 85,
   "metadata": {},
   "outputs": [],
   "source": [
    "\n",
    "filters = [\n",
    "    {\"channel\": \"topLongShortAccountRatio\", \"symbols\": [\"btcusdt\"]},\n",
    "]\n",
    "qs_params = {\"from\": \"2022-02-01\", \"to\": \"2022-02-02\", \"offset\": 3, \"filters\": json.dumps(filters)}\n",
    "\n",
    "headers = {\"Authorization\": \"TD.bGGkN0U-Q23J11Fg.BM25zW2D02TrP1J.QPwJos8qqNCSsqF.TX4WVlWhyd6WOOQ.ISFXAVw3BXatkSZ.1tLt\"}\n",
    "\n",
    "url = \"https://api.tardis.dev/v1/data-feeds/binance-futures\"\n",
    "\n",
    "response = requests.get(url, headers=headers, params=qs_params, stream=True)\n",
    "\n",
    "\n",
    "parts = response.text.split(\" \")\n",
    "local_timestamp = parts[0]\n",
    "message = json.loads(parts[1])\n"
   ]
  },
  {
   "cell_type": "code",
   "execution_count": 86,
   "metadata": {},
   "outputs": [
    {
     "name": "stdout",
     "output_type": "stream",
     "text": [
      "2022-02-01T00:03:15.1491960Z {'stream': 'btcusdt@topLongShortAccountRatio', 'generated': True, 'data': {'symbol': 'BTCUSDT', 'longAccount': '0.4541', 'longShortRatio': '0.8318', 'shortAccount': '0.5459', 'timestamp': 1643673300000}}\n"
     ]
    }
   ],
   "source": [
    "\n",
    "for line in response.iter_lines():\n",
    "    # empty lines in response are being used as markers\n",
    "    # for disconnect events that occurred when collecting the data\n",
    "    if len(line) <= 1:\n",
    "        continue\n",
    "\n",
    "    parts = line.decode(\"utf-8\").split(\" \")\n",
    "    local_timestamp = parts[0]\n",
    "    message = json.loads(parts[1])\n",
    "    # local_timestamp string marks message arrival timestamp\n",
    "    # message is a message dict as provided by exchange real-time stream\n",
    "    print(local_timestamp, message)\n"
   ]
  },
  {
   "cell_type": "code",
   "execution_count": 59,
   "metadata": {},
   "outputs": [],
   "source": []
  }
 ],
 "metadata": {
  "interpreter": {
   "hash": "31f2aee4e71d21fbe5cf8b01ff0e069b9275f58929596ceb00d14d90e3e16cd6"
  },
  "kernelspec": {
   "display_name": "Python 3.10.6 64-bit",
   "language": "python",
   "name": "python3"
  },
  "language_info": {
   "codemirror_mode": {
    "name": "ipython",
    "version": 3
   },
   "file_extension": ".py",
   "mimetype": "text/x-python",
   "name": "python",
   "nbconvert_exporter": "python",
   "pygments_lexer": "ipython3",
   "version": "3.8.9"
  },
  "orig_nbformat": 4
 },
 "nbformat": 4,
 "nbformat_minor": 2
}
