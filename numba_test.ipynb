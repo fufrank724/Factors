{
 "cells": [
  {
   "cell_type": "code",
   "execution_count": 1,
   "metadata": {},
   "outputs": [],
   "source": [
    "from util.backtest import *\n",
    "import matplotlib.pyplot as plt\n",
    "from matplotlib import cm\n",
    "import pymongo\n",
    "import numba\n",
    "\n",
    "plt.style.use('seaborn')\n",
    "plt.rcParams['font.sans-serif'] = ['Microsoft JhengHei']\n",
    "plt.rcParams['axes.unicode_minus'] =False"
   ]
  },
  {
   "cell_type": "code",
   "execution_count": 2,
   "metadata": {},
   "outputs": [
    {
     "name": "stdout",
     "output_type": "stream",
     "text": [
      "Dataframe prepared completed\n"
     ]
    }
   ],
   "source": [
    "INSAMPLE_END_DATE = datetime(2021,7,1)\n",
    "VALID_END_DATE = datetime(2022,6,1)\n",
    "SAMPLE_END_DATE = datetime(2022,8,31)\n",
    "\n",
    "FREQ = 'D'\n",
    "\n",
    "\n",
    "df = pd.read_csv('/home/frank/document/Python/Factors/data/data_1h.csv')\n",
    "df['BuyerRatio'] = df['takerBuyQuoteVol']/df['quoteAssetVolume']\n",
    "df['BuyerPerTrade'] = df['takerBuyQuoteVol']/df['numberOfTrades']\n",
    "df['VolumePerTrade'] = df['quoteAssetVolume']/df['numberOfTrades']\n",
    "\n",
    "df = df.drop(['Volume','numberOfTrades'],axis= 1)\n",
    "print('Dataframe prepared completed')"
   ]
  },
  {
   "cell_type": "code",
   "execution_count": 3,
   "metadata": {},
   "outputs": [
    {
     "name": "stdout",
     "output_type": "stream",
     "text": [
      "Pivot table completed\n"
     ]
    }
   ],
   "source": [
    "col_list = ['Open','High','Low','Close','quoteAssetVolume','takerBuyQuoteVol','BuyerRatio']\n",
    "df_data = {}\n",
    "for col in col_list:\n",
    "    df_data[col] = df.pivot(values = col,index = 'openTime',columns = 'symbol').astype(float)\n",
    "    df_data[col].index = pd.to_datetime(df_data[col].index,unit = 'ms') #+ timedelta(hours=8)\n",
    "\n",
    "print(\"Pivot table completed\")"
   ]
  },
  {
   "cell_type": "code",
   "execution_count": 4,
   "metadata": {},
   "outputs": [
    {
     "data": {
      "text/html": [
       "<div>\n",
       "<style scoped>\n",
       "    .dataframe tbody tr th:only-of-type {\n",
       "        vertical-align: middle;\n",
       "    }\n",
       "\n",
       "    .dataframe tbody tr th {\n",
       "        vertical-align: top;\n",
       "    }\n",
       "\n",
       "    .dataframe thead th {\n",
       "        text-align: right;\n",
       "    }\n",
       "</style>\n",
       "<table border=\"1\" class=\"dataframe\">\n",
       "  <thead>\n",
       "    <tr style=\"text-align: right;\">\n",
       "      <th>symbol</th>\n",
       "      <th>1000bttcusdt</th>\n",
       "      <th>1000luncusdt</th>\n",
       "      <th>1000shibusdt</th>\n",
       "      <th>1000xecusdt</th>\n",
       "      <th>1inchusdt</th>\n",
       "      <th>aaveusdt</th>\n",
       "      <th>achusdt</th>\n",
       "      <th>adausdt</th>\n",
       "      <th>agixusdt</th>\n",
       "      <th>akrousdt</th>\n",
       "      <th>...</th>\n",
       "      <th>xlmusdt</th>\n",
       "      <th>xmrusdt</th>\n",
       "      <th>xrpusdt</th>\n",
       "      <th>xtzusdt</th>\n",
       "      <th>yfiiusdt</th>\n",
       "      <th>yfiusdt</th>\n",
       "      <th>zecusdt</th>\n",
       "      <th>zenusdt</th>\n",
       "      <th>zilusdt</th>\n",
       "      <th>zrxusdt</th>\n",
       "    </tr>\n",
       "    <tr>\n",
       "      <th>openTime</th>\n",
       "      <th></th>\n",
       "      <th></th>\n",
       "      <th></th>\n",
       "      <th></th>\n",
       "      <th></th>\n",
       "      <th></th>\n",
       "      <th></th>\n",
       "      <th></th>\n",
       "      <th></th>\n",
       "      <th></th>\n",
       "      <th></th>\n",
       "      <th></th>\n",
       "      <th></th>\n",
       "      <th></th>\n",
       "      <th></th>\n",
       "      <th></th>\n",
       "      <th></th>\n",
       "      <th></th>\n",
       "      <th></th>\n",
       "      <th></th>\n",
       "      <th></th>\n",
       "    </tr>\n",
       "  </thead>\n",
       "  <tbody>\n",
       "    <tr>\n",
       "      <th>2023-02-23 03:00:00</th>\n",
       "      <td>NaN</td>\n",
       "      <td>0.1649</td>\n",
       "      <td>0.013403</td>\n",
       "      <td>0.03745</td>\n",
       "      <td>0.6357</td>\n",
       "      <td>86.42</td>\n",
       "      <td>0.04472</td>\n",
       "      <td>0.3917</td>\n",
       "      <td>0.4180</td>\n",
       "      <td>NaN</td>\n",
       "      <td>...</td>\n",
       "      <td>0.09265</td>\n",
       "      <td>157.90</td>\n",
       "      <td>0.3951</td>\n",
       "      <td>1.443</td>\n",
       "      <td>NaN</td>\n",
       "      <td>9077.0</td>\n",
       "      <td>47.96</td>\n",
       "      <td>13.816</td>\n",
       "      <td>0.03573</td>\n",
       "      <td>0.2721</td>\n",
       "    </tr>\n",
       "    <tr>\n",
       "      <th>2023-02-23 04:00:00</th>\n",
       "      <td>NaN</td>\n",
       "      <td>0.1655</td>\n",
       "      <td>0.013481</td>\n",
       "      <td>0.03760</td>\n",
       "      <td>0.6395</td>\n",
       "      <td>87.05</td>\n",
       "      <td>0.04416</td>\n",
       "      <td>0.3924</td>\n",
       "      <td>0.4198</td>\n",
       "      <td>NaN</td>\n",
       "      <td>...</td>\n",
       "      <td>0.09268</td>\n",
       "      <td>157.88</td>\n",
       "      <td>0.3969</td>\n",
       "      <td>1.454</td>\n",
       "      <td>NaN</td>\n",
       "      <td>9505.0</td>\n",
       "      <td>48.00</td>\n",
       "      <td>13.730</td>\n",
       "      <td>0.03603</td>\n",
       "      <td>0.2762</td>\n",
       "    </tr>\n",
       "    <tr>\n",
       "      <th>2023-02-23 05:00:00</th>\n",
       "      <td>NaN</td>\n",
       "      <td>0.1641</td>\n",
       "      <td>0.013490</td>\n",
       "      <td>0.03726</td>\n",
       "      <td>0.6383</td>\n",
       "      <td>86.60</td>\n",
       "      <td>0.04779</td>\n",
       "      <td>0.3909</td>\n",
       "      <td>0.4166</td>\n",
       "      <td>NaN</td>\n",
       "      <td>...</td>\n",
       "      <td>0.09218</td>\n",
       "      <td>157.23</td>\n",
       "      <td>0.3957</td>\n",
       "      <td>1.437</td>\n",
       "      <td>NaN</td>\n",
       "      <td>9506.0</td>\n",
       "      <td>47.80</td>\n",
       "      <td>13.802</td>\n",
       "      <td>0.03563</td>\n",
       "      <td>0.2730</td>\n",
       "    </tr>\n",
       "    <tr>\n",
       "      <th>2023-02-23 06:00:00</th>\n",
       "      <td>NaN</td>\n",
       "      <td>0.1640</td>\n",
       "      <td>0.013424</td>\n",
       "      <td>0.03706</td>\n",
       "      <td>0.6370</td>\n",
       "      <td>86.61</td>\n",
       "      <td>0.05046</td>\n",
       "      <td>0.3912</td>\n",
       "      <td>0.4182</td>\n",
       "      <td>NaN</td>\n",
       "      <td>...</td>\n",
       "      <td>0.09221</td>\n",
       "      <td>157.18</td>\n",
       "      <td>0.3941</td>\n",
       "      <td>1.417</td>\n",
       "      <td>NaN</td>\n",
       "      <td>9463.0</td>\n",
       "      <td>47.81</td>\n",
       "      <td>13.741</td>\n",
       "      <td>0.03571</td>\n",
       "      <td>0.2723</td>\n",
       "    </tr>\n",
       "    <tr>\n",
       "      <th>2023-02-23 07:00:00</th>\n",
       "      <td>NaN</td>\n",
       "      <td>0.1646</td>\n",
       "      <td>0.013400</td>\n",
       "      <td>0.03720</td>\n",
       "      <td>0.6386</td>\n",
       "      <td>86.83</td>\n",
       "      <td>0.05036</td>\n",
       "      <td>0.3930</td>\n",
       "      <td>0.4262</td>\n",
       "      <td>NaN</td>\n",
       "      <td>...</td>\n",
       "      <td>0.09245</td>\n",
       "      <td>157.60</td>\n",
       "      <td>0.3949</td>\n",
       "      <td>1.416</td>\n",
       "      <td>NaN</td>\n",
       "      <td>9367.0</td>\n",
       "      <td>47.93</td>\n",
       "      <td>13.812</td>\n",
       "      <td>0.03570</td>\n",
       "      <td>0.2723</td>\n",
       "    </tr>\n",
       "  </tbody>\n",
       "</table>\n",
       "<p>5 rows × 182 columns</p>\n",
       "</div>"
      ],
      "text/plain": [
       "symbol               1000bttcusdt  1000luncusdt  1000shibusdt  1000xecusdt  \\\n",
       "openTime                                                                     \n",
       "2023-02-23 03:00:00           NaN        0.1649      0.013403      0.03745   \n",
       "2023-02-23 04:00:00           NaN        0.1655      0.013481      0.03760   \n",
       "2023-02-23 05:00:00           NaN        0.1641      0.013490      0.03726   \n",
       "2023-02-23 06:00:00           NaN        0.1640      0.013424      0.03706   \n",
       "2023-02-23 07:00:00           NaN        0.1646      0.013400      0.03720   \n",
       "\n",
       "symbol               1inchusdt  aaveusdt  achusdt  adausdt  agixusdt  \\\n",
       "openTime                                                               \n",
       "2023-02-23 03:00:00     0.6357     86.42  0.04472   0.3917    0.4180   \n",
       "2023-02-23 04:00:00     0.6395     87.05  0.04416   0.3924    0.4198   \n",
       "2023-02-23 05:00:00     0.6383     86.60  0.04779   0.3909    0.4166   \n",
       "2023-02-23 06:00:00     0.6370     86.61  0.05046   0.3912    0.4182   \n",
       "2023-02-23 07:00:00     0.6386     86.83  0.05036   0.3930    0.4262   \n",
       "\n",
       "symbol               akrousdt  ...  xlmusdt  xmrusdt  xrpusdt  xtzusdt  \\\n",
       "openTime                       ...                                       \n",
       "2023-02-23 03:00:00       NaN  ...  0.09265   157.90   0.3951    1.443   \n",
       "2023-02-23 04:00:00       NaN  ...  0.09268   157.88   0.3969    1.454   \n",
       "2023-02-23 05:00:00       NaN  ...  0.09218   157.23   0.3957    1.437   \n",
       "2023-02-23 06:00:00       NaN  ...  0.09221   157.18   0.3941    1.417   \n",
       "2023-02-23 07:00:00       NaN  ...  0.09245   157.60   0.3949    1.416   \n",
       "\n",
       "symbol               yfiiusdt  yfiusdt  zecusdt  zenusdt  zilusdt  zrxusdt  \n",
       "openTime                                                                    \n",
       "2023-02-23 03:00:00       NaN   9077.0    47.96   13.816  0.03573   0.2721  \n",
       "2023-02-23 04:00:00       NaN   9505.0    48.00   13.730  0.03603   0.2762  \n",
       "2023-02-23 05:00:00       NaN   9506.0    47.80   13.802  0.03563   0.2730  \n",
       "2023-02-23 06:00:00       NaN   9463.0    47.81   13.741  0.03571   0.2723  \n",
       "2023-02-23 07:00:00       NaN   9367.0    47.93   13.812  0.03570   0.2723  \n",
       "\n",
       "[5 rows x 182 columns]"
      ]
     },
     "execution_count": 4,
     "metadata": {},
     "output_type": "execute_result"
    }
   ],
   "source": [
    "close = df_data['Close']#.resample('D').last()\n",
    "close.tail()"
   ]
  },
  {
   "cell_type": "code",
   "execution_count": 5,
   "metadata": {},
   "outputs": [
    {
     "data": {
      "text/plain": [
       "(27592, 182)"
      ]
     },
     "execution_count": 5,
     "metadata": {},
     "output_type": "execute_result"
    }
   ],
   "source": [
    "df1 = close.values\n",
    "len(df1[-1:][0])\n",
    "df1.shape"
   ]
  },
  {
   "cell_type": "code",
   "execution_count": 6,
   "metadata": {},
   "outputs": [
    {
     "name": "stdout",
     "output_type": "stream",
     "text": [
      "CPU times: user 1min 28s, sys: 111 ms, total: 1min 28s\n",
      "Wall time: 2.2 s\n"
     ]
    },
    {
     "data": {
      "text/plain": [
       "array([1.49071198, 1.49071198, 1.49071198, 1.49071198, 1.49071198])"
      ]
     },
     "execution_count": 6,
     "metadata": {},
     "output_type": "execute_result"
    }
   ],
   "source": [
    "%%time\n",
    "\n",
    "\n",
    "@numba.njit(parallel=True,nogil=True)\n",
    "def nb_rolling_max(arr,periods):\n",
    "    result = np.empty(arr.shape,dtype=np.float64)\n",
    "\n",
    "    for col in nb.prange(arr.shape[0]):\n",
    "        for i in range(periods,arr.shape[1]+1):\n",
    "            target = arr[col][i-periods:i].copy()\n",
    "            moments = np.std(target)\n",
    "            if not np.all(np.isnan(target)) and moments != 0:\n",
    "                m2 = moments**2\n",
    "                m3 = moments**3\n",
    "                n = periods\n",
    "\n",
    "                result[col][i-1] = (np.sqrt(n*(n-1))/ (n-2)) * (m3 / m2 ** 1.5)\n",
    "\n",
    "    return result\n",
    "# close\n",
    "# ret[-1]\n",
    "ret = nb_rolling_max(df1[:,:].T,5)#.T\n",
    "ret[-1,-5:]\n",
    "# pd.DataFrame(ret)[0].plot()"
   ]
  },
  {
   "cell_type": "code",
   "execution_count": 12,
   "metadata": {},
   "outputs": [
    {
     "data": {
      "text/plain": [
       "1.0000543673602615"
      ]
     },
     "execution_count": 12,
     "metadata": {},
     "output_type": "execute_result"
    }
   ],
   "source": [
    "# moments(close.values,2)\n",
    "skewness(close['btcusdt'].values)"
   ]
  },
  {
   "cell_type": "code",
   "execution_count": 287,
   "metadata": {},
   "outputs": [],
   "source": [
    "\n",
    "\n",
    "@nb.njit(parallel=True)\n",
    "def nb_moments(values, moment):\n",
    "    arr = values[~np.isnan(values)]\n",
    "    if arr.size == 0:\n",
    "        return np.NaN\n",
    "\n",
    "    vals_mean = np.mean(arr)\n",
    "    numerator = (arr - vals_mean) ** moment\n",
    "    numerator = np.mean(numerator )\n",
    "    return numerator\n",
    "\n",
    "def skewness(values): \n",
    "    n = len(values)\n",
    "    m2 = np.std(values,ddof= 0)**2\n",
    "    m3 = np.std(values,ddof= 0)**3\n",
    "    return (np.sqrt(n*(n-1))/ (n-2)) * (m3 / m2 ** 1.5)\n",
    "    \n",
    "@nb.njit(parallel=True)\n",
    "def nb_kurtosis(values):\n",
    "    n = len(values)\n",
    "    m2 = nb_moments(values,2)\n",
    "    m4 = nb_moments(values,4)\n",
    "    nval = 1.0/(n-2)/(n-3) * ((n**2-1.0)*m4/m2**2.0 - 3*(n-1)**2.0)\n",
    "    return nval\n",
    "# _moment(a, 4, axis, mean=mean)"
   ]
  },
  {
   "cell_type": "code",
   "execution_count": 284,
   "metadata": {},
   "outputs": [],
   "source": [
    "@nb.njit(parallel=True)\n",
    "def nb_test(values):\n",
    "    mask = np.isnan(values)\n",
    "    arr = values[~mask]\n",
    "    return np.mean(values[~np.isnan(values)])\n",
    "nb_test(close['1000bttcusdt'].values)    "
   ]
  },
  {
   "cell_type": "code",
   "execution_count": 286,
   "metadata": {},
   "outputs": [
    {
     "data": {
      "text/plain": [
       "27592"
      ]
     },
     "execution_count": 286,
     "metadata": {},
     "output_type": "execute_result"
    }
   ],
   "source": [
    "nb_test(close['1000bttcusdt'].values)\n",
    "close['1000bttcusdt'].values.size"
   ]
  },
  {
   "cell_type": "code",
   "execution_count": 350,
   "metadata": {},
   "outputs": [
    {
     "name": "stderr",
     "output_type": "stream",
     "text": [
      "/home/frank/.local/lib/python3.10/site-packages/numba/core/typed_passes.py:329: NumbaPerformanceWarning: \u001b[1m\n",
      "The keyword argument 'parallel=True' was specified but no transformation for parallel execution was possible.\n",
      "\n",
      "To find out why, try turning on parallel diagnostics, see https://numba.readthedocs.io/en/stable/user/parallel.html#diagnostics for help.\n",
      "\u001b[1m\n",
      "File \"../../../../../tmp/ipykernel_3155991/3751634493.py\", line 17:\u001b[0m\n",
      "\u001b[1m<source missing, REPL/exec in use?>\u001b[0m\n",
      "\u001b[0m\n",
      "  warnings.warn(errors.NumbaPerformanceWarning(msg,\n"
     ]
    },
    {
     "data": {
      "text/plain": [
       "array([6.92663421e-310, 6.92663421e-310, 4.66610616e-310, ...,\n",
       "       1.00000000e+000, 1.00000000e+000, 1.00000000e+000])"
      ]
     },
     "execution_count": 350,
     "metadata": {},
     "output_type": "execute_result"
    }
   ],
   "source": [
    "def nb_rolling(arr,periods,method,params = None):\n",
    "    result = np.empty( arr.shape,dtype=np.float64)\n",
    "    if len(arr.shape)>1:\n",
    "        for col in nb.prange(arr.shape[0]):\n",
    "            for i in range(periods,arr.shape[1]+1):\n",
    "                target = arr[col][i-periods:i].copy()\n",
    "                result[col][i-1] = nb_kurtosis(target)\n",
    "    else:\n",
    "        for i in range(periods,arr.shape[0]+1):\n",
    "            target = arr[i-periods:i].copy()\n",
    "            if params:\n",
    "                result[i-1] = method(target[target!=np.nan],*params)\n",
    "            else:\n",
    "                result[i-1] = method(target[target!=np.nan])\n",
    "\n",
    "    return result\n",
    "@nb.njit(parallel=True)\n",
    "\n",
    "def test_func(x,y):\n",
    "    return 1\n",
    "result = nb_rolling(close['1000bttcusdt'].values,close['1000bttcusdt'].values.size - 10,test_func,(20,))\n",
    "result"
   ]
  },
  {
   "cell_type": "code",
   "execution_count": null,
   "metadata": {},
   "outputs": [],
   "source": [
    "result = nb_rolling(close['1000bttcusdt'].values,close['1000bttcusdt'].values.size - 10,test_func,(20,))\n"
   ]
  },
  {
   "cell_type": "code",
   "execution_count": null,
   "metadata": {},
   "outputs": [],
   "source": []
  },
  {
   "cell_type": "code",
   "execution_count": 313,
   "metadata": {},
   "outputs": [
    {
     "data": {
      "text/plain": [
       "array([        nan,         nan,         nan, ..., -1.09788305,\n",
       "       -1.09788305, -1.09788305])"
      ]
     },
     "execution_count": 313,
     "metadata": {},
     "output_type": "execute_result"
    }
   ],
   "source": [
    "result#[:10]"
   ]
  },
  {
   "cell_type": "code",
   "execution_count": 292,
   "metadata": {},
   "outputs": [
    {
     "name": "stdout",
     "output_type": "stream",
     "text": [
      "CPU times: user 6.35 s, sys: 0 ns, total: 6.35 s\n",
      "Wall time: 77.7 ms\n"
     ]
    },
    {
     "data": {
      "text/plain": [
       "-1.0978830556822639"
      ]
     },
     "execution_count": 292,
     "metadata": {},
     "output_type": "execute_result"
    }
   ],
   "source": [
    "%%time\n",
    "# nb_moments(close['ethusdt'].values,2)\n",
    "nb_kurtosis(close['1000bttcusdt'].values)"
   ]
  },
  {
   "cell_type": "code",
   "execution_count": 293,
   "metadata": {},
   "outputs": [
    {
     "data": {
      "text/plain": [
       "-1.0976177536599054"
      ]
     },
     "execution_count": 293,
     "metadata": {},
     "output_type": "execute_result"
    }
   ],
   "source": [
    "close['1000bttcusdt'].kurt()"
   ]
  },
  {
   "cell_type": "code",
   "execution_count": 252,
   "metadata": {},
   "outputs": [
    {
     "name": "stdout",
     "output_type": "stream",
     "text": [
      "CPU times: user 2.05 ms, sys: 0 ns, total: 2.05 ms\n",
      "Wall time: 1.52 ms\n"
     ]
    },
    {
     "data": {
      "text/plain": [
       "-1.0976177536599054"
      ]
     },
     "execution_count": 252,
     "metadata": {},
     "output_type": "execute_result"
    }
   ],
   "source": [
    "%%time\n",
    "# _moment(close['ethusdt'].values,2,0)\n",
    "close['1000bttcusdt'].kurt()"
   ]
  },
  {
   "cell_type": "code",
   "execution_count": 246,
   "metadata": {},
   "outputs": [
    {
     "data": {
      "text/html": [
       "<div>\n",
       "<style scoped>\n",
       "    .dataframe tbody tr th:only-of-type {\n",
       "        vertical-align: middle;\n",
       "    }\n",
       "\n",
       "    .dataframe tbody tr th {\n",
       "        vertical-align: top;\n",
       "    }\n",
       "\n",
       "    .dataframe thead th {\n",
       "        text-align: right;\n",
       "    }\n",
       "</style>\n",
       "<table border=\"1\" class=\"dataframe\">\n",
       "  <thead>\n",
       "    <tr style=\"text-align: right;\">\n",
       "      <th>symbol</th>\n",
       "      <th>1000bttcusdt</th>\n",
       "      <th>1000luncusdt</th>\n",
       "      <th>1000shibusdt</th>\n",
       "      <th>1000xecusdt</th>\n",
       "      <th>1inchusdt</th>\n",
       "      <th>aaveusdt</th>\n",
       "      <th>achusdt</th>\n",
       "      <th>adausdt</th>\n",
       "      <th>agixusdt</th>\n",
       "      <th>akrousdt</th>\n",
       "      <th>...</th>\n",
       "      <th>xlmusdt</th>\n",
       "      <th>xmrusdt</th>\n",
       "      <th>xrpusdt</th>\n",
       "      <th>xtzusdt</th>\n",
       "      <th>yfiiusdt</th>\n",
       "      <th>yfiusdt</th>\n",
       "      <th>zecusdt</th>\n",
       "      <th>zenusdt</th>\n",
       "      <th>zilusdt</th>\n",
       "      <th>zrxusdt</th>\n",
       "    </tr>\n",
       "    <tr>\n",
       "      <th>openTime</th>\n",
       "      <th></th>\n",
       "      <th></th>\n",
       "      <th></th>\n",
       "      <th></th>\n",
       "      <th></th>\n",
       "      <th></th>\n",
       "      <th></th>\n",
       "      <th></th>\n",
       "      <th></th>\n",
       "      <th></th>\n",
       "      <th></th>\n",
       "      <th></th>\n",
       "      <th></th>\n",
       "      <th></th>\n",
       "      <th></th>\n",
       "      <th></th>\n",
       "      <th></th>\n",
       "      <th></th>\n",
       "      <th></th>\n",
       "      <th></th>\n",
       "      <th></th>\n",
       "    </tr>\n",
       "  </thead>\n",
       "  <tbody>\n",
       "    <tr>\n",
       "      <th>2019-12-31 16:00:00</th>\n",
       "      <td>NaN</td>\n",
       "      <td>NaN</td>\n",
       "      <td>NaN</td>\n",
       "      <td>NaN</td>\n",
       "      <td>NaN</td>\n",
       "      <td>NaN</td>\n",
       "      <td>NaN</td>\n",
       "      <td>NaN</td>\n",
       "      <td>NaN</td>\n",
       "      <td>NaN</td>\n",
       "      <td>...</td>\n",
       "      <td>NaN</td>\n",
       "      <td>NaN</td>\n",
       "      <td>NaN</td>\n",
       "      <td>NaN</td>\n",
       "      <td>NaN</td>\n",
       "      <td>NaN</td>\n",
       "      <td>NaN</td>\n",
       "      <td>NaN</td>\n",
       "      <td>NaN</td>\n",
       "      <td>NaN</td>\n",
       "    </tr>\n",
       "    <tr>\n",
       "      <th>2019-12-31 17:00:00</th>\n",
       "      <td>NaN</td>\n",
       "      <td>NaN</td>\n",
       "      <td>NaN</td>\n",
       "      <td>NaN</td>\n",
       "      <td>NaN</td>\n",
       "      <td>NaN</td>\n",
       "      <td>NaN</td>\n",
       "      <td>NaN</td>\n",
       "      <td>NaN</td>\n",
       "      <td>NaN</td>\n",
       "      <td>...</td>\n",
       "      <td>NaN</td>\n",
       "      <td>NaN</td>\n",
       "      <td>NaN</td>\n",
       "      <td>NaN</td>\n",
       "      <td>NaN</td>\n",
       "      <td>NaN</td>\n",
       "      <td>NaN</td>\n",
       "      <td>NaN</td>\n",
       "      <td>NaN</td>\n",
       "      <td>NaN</td>\n",
       "    </tr>\n",
       "    <tr>\n",
       "      <th>2019-12-31 18:00:00</th>\n",
       "      <td>NaN</td>\n",
       "      <td>NaN</td>\n",
       "      <td>NaN</td>\n",
       "      <td>NaN</td>\n",
       "      <td>NaN</td>\n",
       "      <td>NaN</td>\n",
       "      <td>NaN</td>\n",
       "      <td>NaN</td>\n",
       "      <td>NaN</td>\n",
       "      <td>NaN</td>\n",
       "      <td>...</td>\n",
       "      <td>NaN</td>\n",
       "      <td>NaN</td>\n",
       "      <td>NaN</td>\n",
       "      <td>NaN</td>\n",
       "      <td>NaN</td>\n",
       "      <td>NaN</td>\n",
       "      <td>NaN</td>\n",
       "      <td>NaN</td>\n",
       "      <td>NaN</td>\n",
       "      <td>NaN</td>\n",
       "    </tr>\n",
       "    <tr>\n",
       "      <th>2019-12-31 19:00:00</th>\n",
       "      <td>NaN</td>\n",
       "      <td>NaN</td>\n",
       "      <td>NaN</td>\n",
       "      <td>NaN</td>\n",
       "      <td>NaN</td>\n",
       "      <td>NaN</td>\n",
       "      <td>NaN</td>\n",
       "      <td>NaN</td>\n",
       "      <td>NaN</td>\n",
       "      <td>NaN</td>\n",
       "      <td>...</td>\n",
       "      <td>NaN</td>\n",
       "      <td>NaN</td>\n",
       "      <td>NaN</td>\n",
       "      <td>NaN</td>\n",
       "      <td>NaN</td>\n",
       "      <td>NaN</td>\n",
       "      <td>NaN</td>\n",
       "      <td>NaN</td>\n",
       "      <td>NaN</td>\n",
       "      <td>NaN</td>\n",
       "    </tr>\n",
       "    <tr>\n",
       "      <th>2019-12-31 20:00:00</th>\n",
       "      <td>NaN</td>\n",
       "      <td>NaN</td>\n",
       "      <td>NaN</td>\n",
       "      <td>NaN</td>\n",
       "      <td>NaN</td>\n",
       "      <td>NaN</td>\n",
       "      <td>NaN</td>\n",
       "      <td>NaN</td>\n",
       "      <td>NaN</td>\n",
       "      <td>NaN</td>\n",
       "      <td>...</td>\n",
       "      <td>NaN</td>\n",
       "      <td>NaN</td>\n",
       "      <td>NaN</td>\n",
       "      <td>NaN</td>\n",
       "      <td>NaN</td>\n",
       "      <td>NaN</td>\n",
       "      <td>NaN</td>\n",
       "      <td>NaN</td>\n",
       "      <td>NaN</td>\n",
       "      <td>NaN</td>\n",
       "    </tr>\n",
       "    <tr>\n",
       "      <th>...</th>\n",
       "      <td>...</td>\n",
       "      <td>...</td>\n",
       "      <td>...</td>\n",
       "      <td>...</td>\n",
       "      <td>...</td>\n",
       "      <td>...</td>\n",
       "      <td>...</td>\n",
       "      <td>...</td>\n",
       "      <td>...</td>\n",
       "      <td>...</td>\n",
       "      <td>...</td>\n",
       "      <td>...</td>\n",
       "      <td>...</td>\n",
       "      <td>...</td>\n",
       "      <td>...</td>\n",
       "      <td>...</td>\n",
       "      <td>...</td>\n",
       "      <td>...</td>\n",
       "      <td>...</td>\n",
       "      <td>...</td>\n",
       "      <td>...</td>\n",
       "    </tr>\n",
       "    <tr>\n",
       "      <th>2023-02-23 03:00:00</th>\n",
       "      <td>NaN</td>\n",
       "      <td>0.1649</td>\n",
       "      <td>0.013403</td>\n",
       "      <td>0.03745</td>\n",
       "      <td>0.6357</td>\n",
       "      <td>86.42</td>\n",
       "      <td>0.04472</td>\n",
       "      <td>0.3917</td>\n",
       "      <td>0.4180</td>\n",
       "      <td>NaN</td>\n",
       "      <td>...</td>\n",
       "      <td>0.09265</td>\n",
       "      <td>157.90</td>\n",
       "      <td>0.3951</td>\n",
       "      <td>1.443</td>\n",
       "      <td>NaN</td>\n",
       "      <td>9077.0</td>\n",
       "      <td>47.96</td>\n",
       "      <td>13.816</td>\n",
       "      <td>0.03573</td>\n",
       "      <td>0.2721</td>\n",
       "    </tr>\n",
       "    <tr>\n",
       "      <th>2023-02-23 04:00:00</th>\n",
       "      <td>NaN</td>\n",
       "      <td>0.1655</td>\n",
       "      <td>0.013481</td>\n",
       "      <td>0.03760</td>\n",
       "      <td>0.6395</td>\n",
       "      <td>87.05</td>\n",
       "      <td>0.04416</td>\n",
       "      <td>0.3924</td>\n",
       "      <td>0.4198</td>\n",
       "      <td>NaN</td>\n",
       "      <td>...</td>\n",
       "      <td>0.09268</td>\n",
       "      <td>157.88</td>\n",
       "      <td>0.3969</td>\n",
       "      <td>1.454</td>\n",
       "      <td>NaN</td>\n",
       "      <td>9505.0</td>\n",
       "      <td>48.00</td>\n",
       "      <td>13.730</td>\n",
       "      <td>0.03603</td>\n",
       "      <td>0.2762</td>\n",
       "    </tr>\n",
       "    <tr>\n",
       "      <th>2023-02-23 05:00:00</th>\n",
       "      <td>NaN</td>\n",
       "      <td>0.1641</td>\n",
       "      <td>0.013490</td>\n",
       "      <td>0.03726</td>\n",
       "      <td>0.6383</td>\n",
       "      <td>86.60</td>\n",
       "      <td>0.04779</td>\n",
       "      <td>0.3909</td>\n",
       "      <td>0.4166</td>\n",
       "      <td>NaN</td>\n",
       "      <td>...</td>\n",
       "      <td>0.09218</td>\n",
       "      <td>157.23</td>\n",
       "      <td>0.3957</td>\n",
       "      <td>1.437</td>\n",
       "      <td>NaN</td>\n",
       "      <td>9506.0</td>\n",
       "      <td>47.80</td>\n",
       "      <td>13.802</td>\n",
       "      <td>0.03563</td>\n",
       "      <td>0.2730</td>\n",
       "    </tr>\n",
       "    <tr>\n",
       "      <th>2023-02-23 06:00:00</th>\n",
       "      <td>NaN</td>\n",
       "      <td>0.1640</td>\n",
       "      <td>0.013424</td>\n",
       "      <td>0.03706</td>\n",
       "      <td>0.6370</td>\n",
       "      <td>86.61</td>\n",
       "      <td>0.05046</td>\n",
       "      <td>0.3912</td>\n",
       "      <td>0.4182</td>\n",
       "      <td>NaN</td>\n",
       "      <td>...</td>\n",
       "      <td>0.09221</td>\n",
       "      <td>157.18</td>\n",
       "      <td>0.3941</td>\n",
       "      <td>1.417</td>\n",
       "      <td>NaN</td>\n",
       "      <td>9463.0</td>\n",
       "      <td>47.81</td>\n",
       "      <td>13.741</td>\n",
       "      <td>0.03571</td>\n",
       "      <td>0.2723</td>\n",
       "    </tr>\n",
       "    <tr>\n",
       "      <th>2023-02-23 07:00:00</th>\n",
       "      <td>NaN</td>\n",
       "      <td>0.1646</td>\n",
       "      <td>0.013400</td>\n",
       "      <td>0.03720</td>\n",
       "      <td>0.6386</td>\n",
       "      <td>86.83</td>\n",
       "      <td>0.05036</td>\n",
       "      <td>0.3930</td>\n",
       "      <td>0.4262</td>\n",
       "      <td>NaN</td>\n",
       "      <td>...</td>\n",
       "      <td>0.09245</td>\n",
       "      <td>157.60</td>\n",
       "      <td>0.3949</td>\n",
       "      <td>1.416</td>\n",
       "      <td>NaN</td>\n",
       "      <td>9367.0</td>\n",
       "      <td>47.93</td>\n",
       "      <td>13.812</td>\n",
       "      <td>0.03570</td>\n",
       "      <td>0.2723</td>\n",
       "    </tr>\n",
       "  </tbody>\n",
       "</table>\n",
       "<p>27592 rows × 182 columns</p>\n",
       "</div>"
      ],
      "text/plain": [
       "symbol               1000bttcusdt  1000luncusdt  1000shibusdt  1000xecusdt  \\\n",
       "openTime                                                                     \n",
       "2019-12-31 16:00:00           NaN           NaN           NaN          NaN   \n",
       "2019-12-31 17:00:00           NaN           NaN           NaN          NaN   \n",
       "2019-12-31 18:00:00           NaN           NaN           NaN          NaN   \n",
       "2019-12-31 19:00:00           NaN           NaN           NaN          NaN   \n",
       "2019-12-31 20:00:00           NaN           NaN           NaN          NaN   \n",
       "...                           ...           ...           ...          ...   \n",
       "2023-02-23 03:00:00           NaN        0.1649      0.013403      0.03745   \n",
       "2023-02-23 04:00:00           NaN        0.1655      0.013481      0.03760   \n",
       "2023-02-23 05:00:00           NaN        0.1641      0.013490      0.03726   \n",
       "2023-02-23 06:00:00           NaN        0.1640      0.013424      0.03706   \n",
       "2023-02-23 07:00:00           NaN        0.1646      0.013400      0.03720   \n",
       "\n",
       "symbol               1inchusdt  aaveusdt  achusdt  adausdt  agixusdt  \\\n",
       "openTime                                                               \n",
       "2019-12-31 16:00:00        NaN       NaN      NaN      NaN       NaN   \n",
       "2019-12-31 17:00:00        NaN       NaN      NaN      NaN       NaN   \n",
       "2019-12-31 18:00:00        NaN       NaN      NaN      NaN       NaN   \n",
       "2019-12-31 19:00:00        NaN       NaN      NaN      NaN       NaN   \n",
       "2019-12-31 20:00:00        NaN       NaN      NaN      NaN       NaN   \n",
       "...                        ...       ...      ...      ...       ...   \n",
       "2023-02-23 03:00:00     0.6357     86.42  0.04472   0.3917    0.4180   \n",
       "2023-02-23 04:00:00     0.6395     87.05  0.04416   0.3924    0.4198   \n",
       "2023-02-23 05:00:00     0.6383     86.60  0.04779   0.3909    0.4166   \n",
       "2023-02-23 06:00:00     0.6370     86.61  0.05046   0.3912    0.4182   \n",
       "2023-02-23 07:00:00     0.6386     86.83  0.05036   0.3930    0.4262   \n",
       "\n",
       "symbol               akrousdt  ...  xlmusdt  xmrusdt  xrpusdt  xtzusdt  \\\n",
       "openTime                       ...                                       \n",
       "2019-12-31 16:00:00       NaN  ...      NaN      NaN      NaN      NaN   \n",
       "2019-12-31 17:00:00       NaN  ...      NaN      NaN      NaN      NaN   \n",
       "2019-12-31 18:00:00       NaN  ...      NaN      NaN      NaN      NaN   \n",
       "2019-12-31 19:00:00       NaN  ...      NaN      NaN      NaN      NaN   \n",
       "2019-12-31 20:00:00       NaN  ...      NaN      NaN      NaN      NaN   \n",
       "...                       ...  ...      ...      ...      ...      ...   \n",
       "2023-02-23 03:00:00       NaN  ...  0.09265   157.90   0.3951    1.443   \n",
       "2023-02-23 04:00:00       NaN  ...  0.09268   157.88   0.3969    1.454   \n",
       "2023-02-23 05:00:00       NaN  ...  0.09218   157.23   0.3957    1.437   \n",
       "2023-02-23 06:00:00       NaN  ...  0.09221   157.18   0.3941    1.417   \n",
       "2023-02-23 07:00:00       NaN  ...  0.09245   157.60   0.3949    1.416   \n",
       "\n",
       "symbol               yfiiusdt  yfiusdt  zecusdt  zenusdt  zilusdt  zrxusdt  \n",
       "openTime                                                                    \n",
       "2019-12-31 16:00:00       NaN      NaN      NaN      NaN      NaN      NaN  \n",
       "2019-12-31 17:00:00       NaN      NaN      NaN      NaN      NaN      NaN  \n",
       "2019-12-31 18:00:00       NaN      NaN      NaN      NaN      NaN      NaN  \n",
       "2019-12-31 19:00:00       NaN      NaN      NaN      NaN      NaN      NaN  \n",
       "2019-12-31 20:00:00       NaN      NaN      NaN      NaN      NaN      NaN  \n",
       "...                       ...      ...      ...      ...      ...      ...  \n",
       "2023-02-23 03:00:00       NaN   9077.0    47.96   13.816  0.03573   0.2721  \n",
       "2023-02-23 04:00:00       NaN   9505.0    48.00   13.730  0.03603   0.2762  \n",
       "2023-02-23 05:00:00       NaN   9506.0    47.80   13.802  0.03563   0.2730  \n",
       "2023-02-23 06:00:00       NaN   9463.0    47.81   13.741  0.03571   0.2723  \n",
       "2023-02-23 07:00:00       NaN   9367.0    47.93   13.812  0.03570   0.2723  \n",
       "\n",
       "[27592 rows x 182 columns]"
      ]
     },
     "execution_count": 246,
     "metadata": {},
     "output_type": "execute_result"
    }
   ],
   "source": [
    "close#['ethusdt'].std()"
   ]
  },
  {
   "cell_type": "code",
   "execution_count": 43,
   "metadata": {},
   "outputs": [
    {
     "data": {
      "text/plain": [
       "0.5125483707449605"
      ]
     },
     "execution_count": 43,
     "metadata": {},
     "output_type": "execute_result"
    }
   ],
   "source": [
    "close['ethusdt'].skew()"
   ]
  },
  {
   "cell_type": "code",
   "execution_count": 76,
   "metadata": {},
   "outputs": [
    {
     "data": {
      "text/plain": [
       "-0.743234790635865"
      ]
     },
     "execution_count": 76,
     "metadata": {},
     "output_type": "execute_result"
    }
   ],
   "source": [
    "close['ethusdt'].kurt()\n"
   ]
  },
  {
   "cell_type": "code",
   "execution_count": 82,
   "metadata": {},
   "outputs": [],
   "source": [
    "from scipy.stats import kurtosis,skew,moment\n",
    "skew(close['ethusdt'],bias=False)\n",
    "test  ={}\n",
    "for col in close.columns:\n",
    "    test[col] = kurtosis(close[col].dropna())\n",
    "test1 = pd.Series(test).rank()"
   ]
  },
  {
   "cell_type": "code",
   "execution_count": 71,
   "metadata": {},
   "outputs": [],
   "source": [
    "test = {}\n",
    "for col in close.columns:\n",
    "    test[col] = close[col].dropna().kurt()\n",
    "test2 = pd.Series(test).rank()"
   ]
  },
  {
   "cell_type": "code",
   "execution_count": 83,
   "metadata": {},
   "outputs": [],
   "source": [
    "def _moment(a, moment, axis, *, mean=None):\n",
    "    if np.abs(moment - np.round(moment)) > 0:\n",
    "        raise ValueError(\"All moment parameters must be integers\")\n",
    "\n",
    "    # moment of empty array is the same regardless of order\n",
    "    if a.size == 0:\n",
    "        return np.mean(a, axis=axis)\n",
    "\n",
    "    if moment == 0 or moment == 1:\n",
    "        # By definition the zeroth moment about the mean is 1, and the first\n",
    "        # moment is 0.\n",
    "        shape = list(a.shape)\n",
    "        del shape[axis]\n",
    "        dtype = a.dtype.type if a.dtype.kind in 'fc' else np.float64\n",
    "\n",
    "        if len(shape) == 0:\n",
    "            return dtype(1.0 if moment == 0 else 0.0)\n",
    "        else:\n",
    "            return (np.ones(shape, dtype=dtype) if moment == 0\n",
    "                    else np.zeros(shape, dtype=dtype))\n",
    "    else:\n",
    "        # Exponentiation by squares: form exponent sequence\n",
    "        n_list = [moment]\n",
    "        current_n = moment\n",
    "        while current_n > 2:\n",
    "            if current_n % 2:\n",
    "                current_n = (current_n - 1) / 2\n",
    "            else:\n",
    "                current_n /= 2\n",
    "            n_list.append(current_n)\n",
    "\n",
    "        # Starting point for exponentiation by squares\n",
    "        mean = a.mean(axis, keepdims=True) if mean is None else mean\n",
    "        a_zero_mean = a - mean\n",
    "\n",
    "        eps = np.finfo(a_zero_mean.dtype).resolution * 10\n",
    "        with np.errstate(divide='ignore', invalid='ignore'):\n",
    "            rel_diff = np.max(np.abs(a_zero_mean), axis=axis,\n",
    "                              keepdims=True) / np.abs(mean)\n",
    "        with np.errstate(invalid='ignore'):\n",
    "            precision_loss = np.any(rel_diff < eps)\n",
    "        if precision_loss:\n",
    "            message = (\"Precision loss occurred in moment calculation due to \"\n",
    "                       \"catastrophic cancellation. This occurs when the data \"\n",
    "                       \"are nearly identical. Results may be unreliable.\")\n",
    "            warnings.warn(message, RuntimeWarning, stacklevel=4)\n",
    "\n",
    "        if n_list[-1] == 1:\n",
    "            s = a_zero_mean.copy()\n",
    "        else:\n",
    "            s = a_zero_mean**2\n",
    "\n",
    "        # Perform multiplications\n",
    "        for n in n_list[-2::-1]:\n",
    "            s = s**2\n",
    "            if n % 2:\n",
    "                s *= a_zero_mean\n",
    "        return np.mean(s, axis)\n"
   ]
  },
  {
   "cell_type": "code",
   "execution_count": 74,
   "metadata": {},
   "outputs": [
    {
     "data": {
      "text/plain": [
       "count    48.000000\n",
       "mean      0.000000\n",
       "std       3.718842\n",
       "min     -22.000000\n",
       "25%       1.000000\n",
       "50%       1.000000\n",
       "75%       1.000000\n",
       "max       1.000000\n",
       "dtype: float64"
      ]
     },
     "execution_count": 74,
     "metadata": {},
     "output_type": "execute_result"
    }
   ],
   "source": [
    "test = (test1 - test2)\n",
    "test[test!=0].describe()"
   ]
  }
 ],
 "metadata": {
  "interpreter": {
   "hash": "31f2aee4e71d21fbe5cf8b01ff0e069b9275f58929596ceb00d14d90e3e16cd6"
  },
  "kernelspec": {
   "display_name": "Python 3.8.9 64-bit",
   "language": "python",
   "name": "python3"
  },
  "language_info": {
   "codemirror_mode": {
    "name": "ipython",
    "version": 3
   },
   "file_extension": ".py",
   "mimetype": "text/x-python",
   "name": "python",
   "nbconvert_exporter": "python",
   "pygments_lexer": "ipython3",
   "version": "3.8.9"
  },
  "orig_nbformat": 4,
  "vscode": {
   "interpreter": {
    "hash": "49cb93f377a7abe7414b7b0f21fb3017538004a126cf690fb524202736b7fb92"
   }
  }
 },
 "nbformat": 4,
 "nbformat_minor": 2
}
