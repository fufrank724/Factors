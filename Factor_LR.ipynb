{
 "cells": [
  {
   "cell_type": "code",
   "execution_count": 1,
   "metadata": {},
   "outputs": [
    {
     "data": {
      "text/plain": [
       "{'tlmbusd': Timestamp('2023-04-05 00:00:00+0000', tz='UTC'),\n",
       " 'leverbusd': Timestamp('2023-04-05 00:00:00+0000', tz='UTC'),\n",
       " 'ambbusd': Timestamp('2023-04-05 00:00:00+0000', tz='UTC'),\n",
       " 'luna2busd': Timestamp('2023-03-23 00:00:00+0000', tz='UTC'),\n",
       " 'icpbusd': Timestamp('2023-03-23 00:00:00+0000', tz='UTC'),\n",
       " 'hntusdt': Timestamp('2023-03-21 00:00:00+0000', tz='UTC'),\n",
       " 'galbusd': Timestamp('2023-03-16 00:00:00+0000', tz='UTC'),\n",
       " 'wavesbusd': Timestamp('2023-03-16 00:00:00+0000', tz='UTC'),\n",
       " 'cvxbusd': Timestamp('2023-03-16 00:00:00+0000', tz='UTC'),\n",
       " 'ancbusd': Timestamp('2022-12-16 00:00:00+0000', tz='UTC'),\n",
       " 'auctionbusd': Timestamp('2022-12-16 00:00:00+0000', tz='UTC'),\n",
       " 'cvcusdt': Timestamp('2022-11-30 00:00:00+0000', tz='UTC'),\n",
       " 'srmusdt': Timestamp('2022-11-16 00:00:00+0000', tz='UTC'),\n",
       " 'rayusdt': Timestamp('2022-11-16 00:00:00+0000', tz='UTC'),\n",
       " 'fttbusd': Timestamp('2022-11-15 00:00:00+0000', tz='UTC'),\n",
       " 'fttusdt': Timestamp('2022-11-15 00:00:00+0000', tz='UTC'),\n",
       " 'btsusdt': Timestamp('2022-08-19 00:00:00+0000', tz='UTC'),\n",
       " 'scusdt': Timestamp('2022-06-18 00:00:00+0000', tz='UTC'),\n",
       " 'akrousdt': Timestamp('2022-05-28 00:00:00+0000', tz='UTC'),\n",
       " 'dodousdt': Timestamp('2022-05-28 00:00:00+0000', tz='UTC'),\n",
       " 'ancusdt': Timestamp('2022-05-14 00:00:00+0000', tz='UTC'),\n",
       " 'lunabusd': Timestamp('2022-05-14 00:00:00+0000', tz='UTC'),\n",
       " 'lunausdt': Timestamp('2022-05-13 00:00:00+0000', tz='UTC'),\n",
       " 'yfiiusdt': Timestamp('2022-04-13 00:00:00+0000', tz='UTC'),\n",
       " '1000bttcusdt': Timestamp('2022-04-12 00:00:00+0000', tz='UTC'),\n",
       " 'keepusdt': Timestamp('2022-02-16 00:00:00+0000', tz='UTC'),\n",
       " 'nuusdt': Timestamp('2022-02-16 00:00:00+0000', tz='UTC'),\n",
       " 'bttusdt': Timestamp('2022-01-15 00:00:00+0000', tz='UTC'),\n",
       " 'bzrxusdt': Timestamp('2021-12-20 00:00:00+0000', tz='UTC'),\n",
       " 'btcstusdt': Timestamp('2021-03-13 00:00:00+0000', tz='UTC'),\n",
       " 'dotecousdt': Timestamp('2021-02-20 00:00:00+0000', tz='UTC'),\n",
       " 'lendusdt': Timestamp('2020-10-10 00:00:00+0000', tz='UTC')}"
      ]
     },
     "execution_count": 1,
     "metadata": {},
     "output_type": "execute_result"
    }
   ],
   "source": [
    "from util.backtest import *\n",
    "from util.factor_util import *\n",
    "import matplotlib.pyplot as plt\n",
    "from matplotlib import cm\n",
    "import itertools\n",
    "from tqdm import tqdm\n",
    "import warnings\n",
    "import statsmodels.api as sm\n",
    "\n",
    "warnings.filterwarnings(\"ignore\")\n",
    "\n",
    "plt.style.use('seaborn')\n",
    "plt.rcParams['font.sans-serif'] = ['Microsoft JhengHei']\n",
    "plt.rcParams['axes.unicode_minus'] =False\n",
    "\n",
    "INSAMPLE_END = datetime(2021,7,1)\n",
    "VALD_END = datetime(2022,6,1)\n",
    "\n",
    "url = 'https://api.tardis.dev/v1/exchanges/binance-futures'\n",
    "result = requests.get(url).json()\n",
    "remove_date = {sym['id']:pd.to_datetime(sym['availableTo']) for sym in result['availableSymbols'] if 'availableTo' in sym.keys() and sym['type']=='perpetual'}\n",
    "remove_date\n",
    "\n"
   ]
  },
  {
   "cell_type": "code",
   "execution_count": 2,
   "metadata": {},
   "outputs": [
    {
     "name": "stdout",
     "output_type": "stream",
     "text": [
      "Dataframe prepared completed\n",
      "Pivot table completed\n"
     ]
    }
   ],
   "source": [
    "INSAMPLE_END_DATE = datetime(2021,7,1)\n",
    "VALID_END_DATE = datetime(2022,6,1)\n",
    "SAMPLE_END_DATE = datetime(2022,8,31)\n",
    "\n",
    "FREQ = 'D'\n",
    "\n",
    "\n",
    "df = pd.read_csv('/home/frank/document/Python/Factors/data/data_1h.csv')\n",
    "df['BuyerRatio'] = df['takerBuyQuoteVol']/df['quoteAssetVolume']\n",
    "df['BuyerPerTrade'] = df['takerBuyQuoteVol']/df['numberOfTrades']\n",
    "df['VolumePerTrade'] = df['quoteAssetVolume']/df['numberOfTrades']\n",
    "\n",
    "df = df.drop(['Volume','numberOfTrades'],axis= 1)\n",
    "print('Dataframe prepared completed')\n",
    "\n",
    "categories = {}\n",
    "with open('/home/frank/document/Python/Factors/data/Crytpo_categories.json','r') as f:\n",
    "    categories = json.loads(f.read())    \n",
    "categories['all'] = df.symbol.unique()\n",
    "\n",
    "col_list = ['Open','High','Low','Close','quoteAssetVolume','takerBuyQuoteVol','BuyerRatio']\n",
    "df_data = {}\n",
    "for col in col_list:\n",
    "    df_data[col] = df.pivot(values = col,index = 'openTime',columns = 'symbol').astype(float)\n",
    "    df_data[col].index = pd.to_datetime(df_data[col].index,unit = 'ms') #+ timedelta(hours=8)\n",
    "\n",
    "print(\"Pivot table completed\")"
   ]
  },
  {
   "cell_type": "code",
   "execution_count": 3,
   "metadata": {},
   "outputs": [
    {
     "name": "stdout",
     "output_type": "stream",
     "text": [
      "(73212, 25)\n",
      "(5013, 25)\n"
     ]
    },
    {
     "data": {
      "text/html": [
       "<div>\n",
       "<style scoped>\n",
       "    .dataframe tbody tr th:only-of-type {\n",
       "        vertical-align: middle;\n",
       "    }\n",
       "\n",
       "    .dataframe tbody tr th {\n",
       "        vertical-align: top;\n",
       "    }\n",
       "\n",
       "    .dataframe thead th {\n",
       "        text-align: right;\n",
       "    }\n",
       "</style>\n",
       "<table border=\"1\" class=\"dataframe\">\n",
       "  <thead>\n",
       "    <tr style=\"text-align: right;\">\n",
       "      <th></th>\n",
       "      <th>Sharpe</th>\n",
       "      <th>Fitnessvalue</th>\n",
       "      <th>turnover</th>\n",
       "      <th>IC</th>\n",
       "      <th>IR</th>\n",
       "      <th>Rank_IC</th>\n",
       "      <th>Rank_IR</th>\n",
       "      <th>Insample Sharpe</th>\n",
       "      <th>Outsample Sharpe</th>\n",
       "      <th>Long Fitness</th>\n",
       "      <th>...</th>\n",
       "      <th>IS_turnover</th>\n",
       "      <th>OS_turnover</th>\n",
       "      <th>IS_IC</th>\n",
       "      <th>IS_IR</th>\n",
       "      <th>OS_IC</th>\n",
       "      <th>OS_IR</th>\n",
       "      <th>IS_Rank_IC</th>\n",
       "      <th>IS_Rank_IR</th>\n",
       "      <th>OS_Rank_IC</th>\n",
       "      <th>OS_Rank_IR</th>\n",
       "    </tr>\n",
       "    <tr>\n",
       "      <th>Strategy</th>\n",
       "      <th></th>\n",
       "      <th></th>\n",
       "      <th></th>\n",
       "      <th></th>\n",
       "      <th></th>\n",
       "      <th></th>\n",
       "      <th></th>\n",
       "      <th></th>\n",
       "      <th></th>\n",
       "      <th></th>\n",
       "      <th></th>\n",
       "      <th></th>\n",
       "      <th></th>\n",
       "      <th></th>\n",
       "      <th></th>\n",
       "      <th></th>\n",
       "      <th></th>\n",
       "      <th></th>\n",
       "      <th></th>\n",
       "      <th></th>\n",
       "      <th></th>\n",
       "    </tr>\n",
       "  </thead>\n",
       "  <tbody>\n",
       "    <tr>\n",
       "      <th>Low/Close.SignedPower.SignedPower.Skew</th>\n",
       "      <td>3.534968</td>\n",
       "      <td>1.887994</td>\n",
       "      <td>6.413433</td>\n",
       "      <td>0.027664</td>\n",
       "      <td>0.194303</td>\n",
       "      <td>0.013158</td>\n",
       "      <td>0.114667</td>\n",
       "      <td>1.525334</td>\n",
       "      <td>3.336580</td>\n",
       "      <td>0.421519</td>\n",
       "      <td>...</td>\n",
       "      <td>6.614119</td>\n",
       "      <td>6.320157</td>\n",
       "      <td>0.025085</td>\n",
       "      <td>0.206114</td>\n",
       "      <td>0.028286</td>\n",
       "      <td>0.232769</td>\n",
       "      <td>0.011143</td>\n",
       "      <td>0.095588</td>\n",
       "      <td>0.014295</td>\n",
       "      <td>0.118854</td>\n",
       "    </tr>\n",
       "    <tr>\n",
       "      <th>BuyerRatio*Low/Close.Skew.Mean.Skew</th>\n",
       "      <td>3.961539</td>\n",
       "      <td>1.710665</td>\n",
       "      <td>9.246631</td>\n",
       "      <td>0.006984</td>\n",
       "      <td>0.076467</td>\n",
       "      <td>0.004316</td>\n",
       "      <td>0.048122</td>\n",
       "      <td>1.793935</td>\n",
       "      <td>3.728010</td>\n",
       "      <td>0.604687</td>\n",
       "      <td>...</td>\n",
       "      <td>8.610351</td>\n",
       "      <td>9.244734</td>\n",
       "      <td>-0.009629</td>\n",
       "      <td>-0.089818</td>\n",
       "      <td>0.009663</td>\n",
       "      <td>0.108052</td>\n",
       "      <td>-0.010136</td>\n",
       "      <td>-0.095374</td>\n",
       "      <td>0.011156</td>\n",
       "      <td>0.129317</td>\n",
       "    </tr>\n",
       "    <tr>\n",
       "      <th>BuyerRatio*Low/High.SignedPower.Mean.Skew</th>\n",
       "      <td>3.346514</td>\n",
       "      <td>1.597200</td>\n",
       "      <td>10.512193</td>\n",
       "      <td>0.006612</td>\n",
       "      <td>0.071280</td>\n",
       "      <td>-0.000078</td>\n",
       "      <td>-0.000809</td>\n",
       "      <td>2.108003</td>\n",
       "      <td>2.030136</td>\n",
       "      <td>0.616392</td>\n",
       "      <td>...</td>\n",
       "      <td>10.212656</td>\n",
       "      <td>10.446213</td>\n",
       "      <td>0.020447</td>\n",
       "      <td>0.193178</td>\n",
       "      <td>-0.000513</td>\n",
       "      <td>-0.005229</td>\n",
       "      <td>0.015446</td>\n",
       "      <td>0.141445</td>\n",
       "      <td>0.001425</td>\n",
       "      <td>0.014948</td>\n",
       "    </tr>\n",
       "    <tr>\n",
       "      <th>Open/Close.Rank.Skew.Skew</th>\n",
       "      <td>3.310504</td>\n",
       "      <td>1.542394</td>\n",
       "      <td>10.139886</td>\n",
       "      <td>-0.003262</td>\n",
       "      <td>0.032505</td>\n",
       "      <td>-0.006348</td>\n",
       "      <td>-0.069081</td>\n",
       "      <td>1.733632</td>\n",
       "      <td>3.581299</td>\n",
       "      <td>0.595825</td>\n",
       "      <td>...</td>\n",
       "      <td>9.778597</td>\n",
       "      <td>9.961187</td>\n",
       "      <td>-0.010472</td>\n",
       "      <td>-0.102864</td>\n",
       "      <td>0.001045</td>\n",
       "      <td>0.010815</td>\n",
       "      <td>0.002246</td>\n",
       "      <td>0.022163</td>\n",
       "      <td>-0.005825</td>\n",
       "      <td>-0.063584</td>\n",
       "    </tr>\n",
       "    <tr>\n",
       "      <th>takerBuyQuoteVol*Open/Low.Pct_Change.Abs.Min</th>\n",
       "      <td>3.735912</td>\n",
       "      <td>1.528328</td>\n",
       "      <td>5.268485</td>\n",
       "      <td>-0.010188</td>\n",
       "      <td>0.042319</td>\n",
       "      <td>0.001436</td>\n",
       "      <td>0.014642</td>\n",
       "      <td>3.094988</td>\n",
       "      <td>1.900152</td>\n",
       "      <td>0.489094</td>\n",
       "      <td>...</td>\n",
       "      <td>5.371587</td>\n",
       "      <td>5.186878</td>\n",
       "      <td>-0.001513</td>\n",
       "      <td>-0.010103</td>\n",
       "      <td>-0.009514</td>\n",
       "      <td>-0.076314</td>\n",
       "      <td>0.009719</td>\n",
       "      <td>0.084114</td>\n",
       "      <td>0.008016</td>\n",
       "      <td>0.086145</td>\n",
       "    </tr>\n",
       "  </tbody>\n",
       "</table>\n",
       "<p>5 rows × 25 columns</p>\n",
       "</div>"
      ],
      "text/plain": [
       "                                                Sharpe  Fitnessvalue  \\\n",
       "Strategy                                                               \n",
       "Low/Close.SignedPower.SignedPower.Skew        3.534968      1.887994   \n",
       "BuyerRatio*Low/Close.Skew.Mean.Skew           3.961539      1.710665   \n",
       "BuyerRatio*Low/High.SignedPower.Mean.Skew     3.346514      1.597200   \n",
       "Open/Close.Rank.Skew.Skew                     3.310504      1.542394   \n",
       "takerBuyQuoteVol*Open/Low.Pct_Change.Abs.Min  3.735912      1.528328   \n",
       "\n",
       "                                               turnover        IC        IR  \\\n",
       "Strategy                                                                      \n",
       "Low/Close.SignedPower.SignedPower.Skew         6.413433  0.027664  0.194303   \n",
       "BuyerRatio*Low/Close.Skew.Mean.Skew            9.246631  0.006984  0.076467   \n",
       "BuyerRatio*Low/High.SignedPower.Mean.Skew     10.512193  0.006612  0.071280   \n",
       "Open/Close.Rank.Skew.Skew                     10.139886 -0.003262  0.032505   \n",
       "takerBuyQuoteVol*Open/Low.Pct_Change.Abs.Min   5.268485 -0.010188  0.042319   \n",
       "\n",
       "                                               Rank_IC   Rank_IR  \\\n",
       "Strategy                                                           \n",
       "Low/Close.SignedPower.SignedPower.Skew        0.013158  0.114667   \n",
       "BuyerRatio*Low/Close.Skew.Mean.Skew           0.004316  0.048122   \n",
       "BuyerRatio*Low/High.SignedPower.Mean.Skew    -0.000078 -0.000809   \n",
       "Open/Close.Rank.Skew.Skew                    -0.006348 -0.069081   \n",
       "takerBuyQuoteVol*Open/Low.Pct_Change.Abs.Min  0.001436  0.014642   \n",
       "\n",
       "                                              Insample Sharpe  \\\n",
       "Strategy                                                        \n",
       "Low/Close.SignedPower.SignedPower.Skew               1.525334   \n",
       "BuyerRatio*Low/Close.Skew.Mean.Skew                  1.793935   \n",
       "BuyerRatio*Low/High.SignedPower.Mean.Skew            2.108003   \n",
       "Open/Close.Rank.Skew.Skew                            1.733632   \n",
       "takerBuyQuoteVol*Open/Low.Pct_Change.Abs.Min         3.094988   \n",
       "\n",
       "                                              Outsample Sharpe  Long Fitness  \\\n",
       "Strategy                                                                       \n",
       "Low/Close.SignedPower.SignedPower.Skew                3.336580      0.421519   \n",
       "BuyerRatio*Low/Close.Skew.Mean.Skew                   3.728010      0.604687   \n",
       "BuyerRatio*Low/High.SignedPower.Mean.Skew             2.030136      0.616392   \n",
       "Open/Close.Rank.Skew.Skew                             3.581299      0.595825   \n",
       "takerBuyQuoteVol*Open/Low.Pct_Change.Abs.Min          1.900152      0.489094   \n",
       "\n",
       "                                              ...  IS_turnover  OS_turnover  \\\n",
       "Strategy                                      ...                             \n",
       "Low/Close.SignedPower.SignedPower.Skew        ...     6.614119     6.320157   \n",
       "BuyerRatio*Low/Close.Skew.Mean.Skew           ...     8.610351     9.244734   \n",
       "BuyerRatio*Low/High.SignedPower.Mean.Skew     ...    10.212656    10.446213   \n",
       "Open/Close.Rank.Skew.Skew                     ...     9.778597     9.961187   \n",
       "takerBuyQuoteVol*Open/Low.Pct_Change.Abs.Min  ...     5.371587     5.186878   \n",
       "\n",
       "                                                 IS_IC     IS_IR     OS_IC  \\\n",
       "Strategy                                                                     \n",
       "Low/Close.SignedPower.SignedPower.Skew        0.025085  0.206114  0.028286   \n",
       "BuyerRatio*Low/Close.Skew.Mean.Skew          -0.009629 -0.089818  0.009663   \n",
       "BuyerRatio*Low/High.SignedPower.Mean.Skew     0.020447  0.193178 -0.000513   \n",
       "Open/Close.Rank.Skew.Skew                    -0.010472 -0.102864  0.001045   \n",
       "takerBuyQuoteVol*Open/Low.Pct_Change.Abs.Min -0.001513 -0.010103 -0.009514   \n",
       "\n",
       "                                                 OS_IR  IS_Rank_IC  \\\n",
       "Strategy                                                             \n",
       "Low/Close.SignedPower.SignedPower.Skew        0.232769    0.011143   \n",
       "BuyerRatio*Low/Close.Skew.Mean.Skew           0.108052   -0.010136   \n",
       "BuyerRatio*Low/High.SignedPower.Mean.Skew    -0.005229    0.015446   \n",
       "Open/Close.Rank.Skew.Skew                     0.010815    0.002246   \n",
       "takerBuyQuoteVol*Open/Low.Pct_Change.Abs.Min -0.076314    0.009719   \n",
       "\n",
       "                                              IS_Rank_IR  OS_Rank_IC  \\\n",
       "Strategy                                                               \n",
       "Low/Close.SignedPower.SignedPower.Skew          0.095588    0.014295   \n",
       "BuyerRatio*Low/Close.Skew.Mean.Skew            -0.095374    0.011156   \n",
       "BuyerRatio*Low/High.SignedPower.Mean.Skew       0.141445    0.001425   \n",
       "Open/Close.Rank.Skew.Skew                       0.022163   -0.005825   \n",
       "takerBuyQuoteVol*Open/Low.Pct_Change.Abs.Min    0.084114    0.008016   \n",
       "\n",
       "                                              OS_Rank_IR  \n",
       "Strategy                                                  \n",
       "Low/Close.SignedPower.SignedPower.Skew          0.118854  \n",
       "BuyerRatio*Low/Close.Skew.Mean.Skew             0.129317  \n",
       "BuyerRatio*Low/High.SignedPower.Mean.Skew       0.014948  \n",
       "Open/Close.Rank.Skew.Skew                      -0.063584  \n",
       "takerBuyQuoteVol*Open/Low.Pct_Change.Abs.Min    0.086145  \n",
       "\n",
       "[5 rows x 25 columns]"
      ]
     },
     "execution_count": 3,
     "metadata": {},
     "output_type": "execute_result"
    }
   ],
   "source": [
    "metrics = pd.read_csv('/home/frank/document/Python/Factors/output/backtest_result/D/level1_IC_metrics.csv',index_col = 0)\n",
    "# metrics = pd.read_csv('/home/frank/document/Python/Factors/output/backtest_result/D/backtest_metrics_20230221.csv',index_col = 0)\n",
    "print(metrics.shape)\n",
    "metrics = metrics.sort_index().drop_duplicates('Sharpe').sort_values('Fitnessvalue',ascending = False)\n",
    "metrics = metrics[metrics['Insample Sharpe']*0.5< metrics['Outsample Sharpe']]\n",
    "metrics = metrics[metrics['Sharpe'] != metrics['Fitnessvalue']]\n",
    "metrics = metrics[metrics['Sharpe'] >=1]\n",
    "# metrics = metrics[(metrics['Long Fitness'] >= 0) & (metrics['Short Fitness'] >= 0)]\n",
    "\n",
    "print(metrics.shape)\n",
    "# print(metrics.sort_values('Fitnessvalue',ascending = False).index[:20])\n",
    "metrics.sort_values('Fitnessvalue',ascending = False).head()#.shape\n"
   ]
  },
  {
   "cell_type": "code",
   "execution_count": 4,
   "metadata": {},
   "outputs": [],
   "source": [
    "name = 'Open/Close.SignedPower.Kurt.Abs_Reverse'\n",
    "selected = 10\n",
    "data = name.replace('_Reverse','').split('.')\n",
    "formula = '.'.join(data[1:])\n",
    "data = data[0]\n",
    "\n",
    "category = 'coin'\n",
    "subset = categories[category]\n",
    "if category != 'all':\n",
    "    subset = np.unique([sym + 'usdt' for sym in subset])\n",
    "\n",
    "\n",
    "\n",
    "market_filter = ~((df_data['quoteAssetVolume'] == 0) | df_data['quoteAssetVolume'].isna())\n",
    "volume = df_data['quoteAssetVolume'].sort_index().rolling(24*7).sum().fillna(0)\n",
    "volume_filter = volume[(market_filter)][subset].rank(axis = 1,pct = True,ascending = True,method = 'dense')\n",
    "GLOBAL_FILTER = market_filter[subset] & (volume_filter>0.5) & (volume[subset]>100*10**6 * 7)\n",
    "\n",
    "ret = df_data['Close'].sort_index().bfill().ffill().pct_change().fillna(0)\n",
    "cond = GLOBAL_FILTER \n",
    "\n",
    "\n",
    "\n",
    "factor1 = calc_factors(calc_input_data(df_data,data),formula,params=[24*7])\n",
    "factor = factor1[subset].sort_index()\n",
    "# if '_Reverse' in name:\n",
    "#     factor *= -1\n"
   ]
  },
  {
   "cell_type": "markdown",
   "metadata": {},
   "source": [
    "#### Daily"
   ]
  },
  {
   "cell_type": "code",
   "execution_count": 5,
   "metadata": {},
   "outputs": [],
   "source": [
    "market_filter = ~((df_data['quoteAssetVolume'] == 0) | df_data['quoteAssetVolume'].isna())\n",
    "volume = df_data['quoteAssetVolume'].sort_index().rolling(24*7).sum().fillna(0)\n",
    "volume_filter = volume[(market_filter)].rank(axis = 1,pct = True,ascending = True,method = 'dense')\n",
    "GLOBAL_FILTER = market_filter[subset] & (volume_filter>0.5)\n",
    "GLOBAL_FILTER = GLOBAL_FILTER.resample('D').last()\n",
    "\n",
    "\n",
    "data = name.replace('_Reverse','').split('.')\n",
    "formula = '.'.join(data[1:])\n",
    "data = data[0]\n",
    "\n",
    "factor = calc_factors(calc_input_data(df_data,data),formula)#[168,72,208,528]\n",
    "factor1 = factor[subset].sort_index().resample(FREQ).last()\n",
    "\n",
    "factor = factor1.sort_index().resample(FREQ).last()\n",
    "cond = GLOBAL_FILTER[subset]\n",
    "\n",
    "\n",
    "\n",
    "rk = factor[cond].rank(axis = 1,pct=True,method = 'dense',ascending = '_Reverse' not in name)\n",
    "\n",
    "long_signal = rk.add(-rk.mean(axis = 1),axis= 0)\n",
    "long_signal[long_signal<0] = 0\n",
    "short_signal = rk.add(-rk.mean(axis = 1),axis= 0)\n",
    "short_signal[short_signal>0] = 0\n"
   ]
  },
  {
   "cell_type": "code",
   "execution_count": 6,
   "metadata": {},
   "outputs": [
    {
     "data": {
      "text/html": [
       "<div>\n",
       "<style scoped>\n",
       "    .dataframe tbody tr th:only-of-type {\n",
       "        vertical-align: middle;\n",
       "    }\n",
       "\n",
       "    .dataframe tbody tr th {\n",
       "        vertical-align: top;\n",
       "    }\n",
       "\n",
       "    .dataframe thead th {\n",
       "        text-align: right;\n",
       "    }\n",
       "</style>\n",
       "<table border=\"1\" class=\"dataframe\">\n",
       "  <thead>\n",
       "    <tr style=\"text-align: right;\">\n",
       "      <th></th>\n",
       "      <th>openTime</th>\n",
       "      <th>symbol</th>\n",
       "      <th>factor</th>\n",
       "      <th>rk</th>\n",
       "      <th>YYY</th>\n",
       "    </tr>\n",
       "  </thead>\n",
       "  <tbody>\n",
       "    <tr>\n",
       "      <th>0</th>\n",
       "      <td>2021-01-01</td>\n",
       "      <td>adausdt</td>\n",
       "      <td>3.466416</td>\n",
       "      <td>0.595238</td>\n",
       "      <td>0.013815</td>\n",
       "    </tr>\n",
       "    <tr>\n",
       "      <th>1</th>\n",
       "      <td>2021-01-01</td>\n",
       "      <td>algousdt</td>\n",
       "      <td>1.853080</td>\n",
       "      <td>0.261905</td>\n",
       "      <td>0.023326</td>\n",
       "    </tr>\n",
       "    <tr>\n",
       "      <th>2</th>\n",
       "      <td>2021-01-01</td>\n",
       "      <td>atomusdt</td>\n",
       "      <td>2.139388</td>\n",
       "      <td>0.285714</td>\n",
       "      <td>-0.075430</td>\n",
       "    </tr>\n",
       "  </tbody>\n",
       "</table>\n",
       "</div>"
      ],
      "text/plain": [
       "    openTime    symbol    factor        rk       YYY\n",
       "0 2021-01-01   adausdt  3.466416  0.595238  0.013815\n",
       "1 2021-01-01  algousdt  1.853080  0.261905  0.023326\n",
       "2 2021-01-01  atomusdt  2.139388  0.285714 -0.075430"
      ]
     },
     "execution_count": 6,
     "metadata": {},
     "output_type": "execute_result"
    }
   ],
   "source": [
    "ret = df_data['Close'].sort_index().resample(FREQ).last().bfill().pct_change().fillna(0)\n",
    "ret_t1 = ret[market_filter].shift(-1).loc[datetime(2021,1,1):].stack().reset_index().rename({0:'YYY'},axis = 1)\n",
    "rk = factor.rank(axis = 1,pct=True,method = 'dense')\n",
    "ff = rk.resample('D').last().loc[datetime(2021,1,1):]#.stack().reset_index().rename({0:'factor'},axis = 1)\n",
    "ff = ff.stack().reset_index().rename({0:'rk'},axis = 1)\n",
    "ff2 = factor.stack().reset_index().rename({0:'factor'},axis = 1)\n",
    "df = pd.merge(ff,ret_t1,on = ['openTime','symbol'])\n",
    "df = pd.merge(ff2,df,on = ['openTime','symbol'])\n",
    "\n",
    "\n",
    "df.head(3)"
   ]
  },
  {
   "cell_type": "code",
   "execution_count": 9,
   "metadata": {},
   "outputs": [
    {
     "data": {
      "text/html": [
       "<div>\n",
       "<style scoped>\n",
       "    .dataframe tbody tr th:only-of-type {\n",
       "        vertical-align: middle;\n",
       "    }\n",
       "\n",
       "    .dataframe tbody tr th {\n",
       "        vertical-align: top;\n",
       "    }\n",
       "\n",
       "    .dataframe thead th {\n",
       "        text-align: right;\n",
       "    }\n",
       "</style>\n",
       "<table border=\"1\" class=\"dataframe\">\n",
       "  <thead>\n",
       "    <tr style=\"text-align: right;\">\n",
       "      <th></th>\n",
       "      <th>factor</th>\n",
       "      <th>rk</th>\n",
       "      <th>YYY</th>\n",
       "    </tr>\n",
       "  </thead>\n",
       "  <tbody>\n",
       "    <tr>\n",
       "      <th>factor</th>\n",
       "      <td>1.000000</td>\n",
       "      <td>0.37441</td>\n",
       "      <td>0.002464</td>\n",
       "    </tr>\n",
       "    <tr>\n",
       "      <th>rk</th>\n",
       "      <td>0.374410</td>\n",
       "      <td>1.00000</td>\n",
       "      <td>-0.010140</td>\n",
       "    </tr>\n",
       "    <tr>\n",
       "      <th>YYY</th>\n",
       "      <td>0.002464</td>\n",
       "      <td>-0.01014</td>\n",
       "      <td>1.000000</td>\n",
       "    </tr>\n",
       "  </tbody>\n",
       "</table>\n",
       "</div>"
      ],
      "text/plain": [
       "          factor       rk       YYY\n",
       "factor  1.000000  0.37441  0.002464\n",
       "rk      0.374410  1.00000 -0.010140\n",
       "YYY     0.002464 -0.01014  1.000000"
      ]
     },
     "execution_count": 9,
     "metadata": {},
     "output_type": "execute_result"
    }
   ],
   "source": [
    "df[['factor','rk','YYY']].corr()"
   ]
  },
  {
   "cell_type": "code",
   "execution_count": null,
   "metadata": {},
   "outputs": [],
   "source": []
  },
  {
   "cell_type": "code",
   "execution_count": 48,
   "metadata": {},
   "outputs": [
    {
     "data": {
      "text/html": [
       "<div>\n",
       "<style scoped>\n",
       "    .dataframe tbody tr th:only-of-type {\n",
       "        vertical-align: middle;\n",
       "    }\n",
       "\n",
       "    .dataframe tbody tr th {\n",
       "        vertical-align: top;\n",
       "    }\n",
       "\n",
       "    .dataframe thead th {\n",
       "        text-align: right;\n",
       "    }\n",
       "</style>\n",
       "<table border=\"1\" class=\"dataframe\">\n",
       "  <thead>\n",
       "    <tr style=\"text-align: right;\">\n",
       "      <th></th>\n",
       "      <th>openTime</th>\n",
       "      <th>symbol</th>\n",
       "      <th>factor</th>\n",
       "      <th>rk</th>\n",
       "      <th>YYY</th>\n",
       "    </tr>\n",
       "  </thead>\n",
       "  <tbody>\n",
       "    <tr>\n",
       "      <th>42978</th>\n",
       "      <td>2023-02-22</td>\n",
       "      <td>vetusdt</td>\n",
       "      <td>4.273021</td>\n",
       "      <td>0.655172</td>\n",
       "      <td>1.0</td>\n",
       "    </tr>\n",
       "    <tr>\n",
       "      <th>42986</th>\n",
       "      <td>2023-02-22</td>\n",
       "      <td>zenusdt</td>\n",
       "      <td>1.683878</td>\n",
       "      <td>0.224138</td>\n",
       "      <td>1.0</td>\n",
       "    </tr>\n",
       "    <tr>\n",
       "      <th>42987</th>\n",
       "      <td>2023-02-22</td>\n",
       "      <td>zilusdt</td>\n",
       "      <td>5.971747</td>\n",
       "      <td>0.775862</td>\n",
       "      <td>1.0</td>\n",
       "    </tr>\n",
       "  </tbody>\n",
       "</table>\n",
       "</div>"
      ],
      "text/plain": [
       "        openTime   symbol    factor        rk  YYY\n",
       "42978 2023-02-22  vetusdt  4.273021  0.655172  1.0\n",
       "42986 2023-02-22  zenusdt  1.683878  0.224138  1.0\n",
       "42987 2023-02-22  zilusdt  5.971747  0.775862  1.0"
      ]
     },
     "execution_count": 48,
     "metadata": {},
     "output_type": "execute_result"
    }
   ],
   "source": [
    "import statsmodels.formula.api as smf\n",
    "import lightgbm as lgb\n",
    "from sklearn.tree import DecisionTreeClassifier # Import Decision Tree Classifier\n",
    "from sklearn.metrics import confusion_matrix\n",
    "\n",
    "\n",
    "df1 = df.copy()\n",
    "\n",
    "df1= df1[df1['YYY'].abs()>0.01]\n",
    "\n",
    "df1['YYY'][df1['YYY'] >0] = 1\n",
    "df1['YYY'][df1['YYY'] <=0] = 0\n",
    "\n",
    "# df1 = df1[df1['YYY']<df1['YYY'].quantile(0.99)]\n",
    "# df1 = df1[df1['YYY']>df1['YYY'].quantile(0.01)]\n",
    "\n",
    "IS = df1.iloc[:int(df1.shape[0]/2)]\n",
    "OS = df1.iloc[int(df1.shape[0]/2):]\n",
    "\n",
    "# ax = IS['YYY'].hist(bins=500)\n",
    "# OS['YYY'].hist(bins=500,ax = ax)\n",
    "\n",
    "\n",
    "df1.tail(3)"
   ]
  },
  {
   "cell_type": "code",
   "execution_count": 55,
   "metadata": {},
   "outputs": [
    {
     "data": {
      "text/plain": [
       "1.0    11777\n",
       "0.0     5904\n",
       "dtype: int64"
      ]
     },
     "execution_count": 55,
     "metadata": {},
     "output_type": "execute_result"
    }
   ],
   "source": [
    "# clf = lgb.LGBMRegressor(max_depth = 20, num_leaves = 20,n_estimators = 20,subsample_for_bin = 2000)\n",
    "clf = lgb.LGBMClassifier(max_depth = 20, num_leaves = 20,n_estimators = 20,subsample_for_bin = 2000)\n",
    "\n",
    "# clf = DecisionTreeClassifier(max_depth = 20)\n",
    "clf = clf.fit(IS[['factor','rk']], IS['YYY'])\n",
    "\n",
    "xx = IS[['factor','rk']]\n",
    "y_pred = clf.predict(xx)\n",
    "pd.Series(y_pred).value_counts()\n"
   ]
  },
  {
   "cell_type": "code",
   "execution_count": 50,
   "metadata": {},
   "outputs": [
    {
     "data": {
      "text/html": [
       "<table class=\"simpletable\">\n",
       "<caption>OLS Regression Results</caption>\n",
       "<tr>\n",
       "  <th>Dep. Variable:</th>           <td>YYY</td>       <th>  R-squared:         </th> <td>   0.000</td> \n",
       "</tr>\n",
       "<tr>\n",
       "  <th>Model:</th>                   <td>OLS</td>       <th>  Adj. R-squared:    </th> <td>   0.000</td> \n",
       "</tr>\n",
       "<tr>\n",
       "  <th>Method:</th>             <td>Least Squares</td>  <th>  F-statistic:       </th> <td>   2.646</td> \n",
       "</tr>\n",
       "<tr>\n",
       "  <th>Date:</th>             <td>Wed, 29 Mar 2023</td> <th>  Prob (F-statistic):</th>  <td> 0.104</td>  \n",
       "</tr>\n",
       "<tr>\n",
       "  <th>Time:</th>                 <td>15:58:23</td>     <th>  Log-Likelihood:    </th> <td> -25659.</td> \n",
       "</tr>\n",
       "<tr>\n",
       "  <th>No. Observations:</th>      <td> 35363</td>      <th>  AIC:               </th> <td>5.132e+04</td>\n",
       "</tr>\n",
       "<tr>\n",
       "  <th>Df Residuals:</th>          <td> 35361</td>      <th>  BIC:               </th> <td>5.134e+04</td>\n",
       "</tr>\n",
       "<tr>\n",
       "  <th>Df Model:</th>              <td>     1</td>      <th>                     </th>     <td> </td>    \n",
       "</tr>\n",
       "<tr>\n",
       "  <th>Covariance Type:</th>      <td>nonrobust</td>    <th>                     </th>     <td> </td>    \n",
       "</tr>\n",
       "</table>\n",
       "<table class=\"simpletable\">\n",
       "<tr>\n",
       "      <td></td>         <th>coef</th>     <th>std err</th>      <th>t</th>      <th>P>|t|</th>  <th>[0.025</th>    <th>0.975]</th>  \n",
       "</tr>\n",
       "<tr>\n",
       "  <th>Intercept</th> <td>    0.5165</td> <td>    0.005</td> <td>   96.255</td> <td> 0.000</td> <td>    0.506</td> <td>    0.527</td>\n",
       "</tr>\n",
       "<tr>\n",
       "  <th>rk</th>        <td>   -0.0150</td> <td>    0.009</td> <td>   -1.627</td> <td> 0.104</td> <td>   -0.033</td> <td>    0.003</td>\n",
       "</tr>\n",
       "</table>\n",
       "<table class=\"simpletable\">\n",
       "<tr>\n",
       "  <th>Omnibus:</th>       <td>120869.202</td> <th>  Durbin-Watson:     </th> <td>   0.779</td>\n",
       "</tr>\n",
       "<tr>\n",
       "  <th>Prob(Omnibus):</th>   <td> 0.000</td>   <th>  Jarque-Bera (JB):  </th> <td>5892.072</td>\n",
       "</tr>\n",
       "<tr>\n",
       "  <th>Skew:</th>            <td>-0.036</td>   <th>  Prob(JB):          </th> <td>    0.00</td>\n",
       "</tr>\n",
       "<tr>\n",
       "  <th>Kurtosis:</th>        <td> 1.002</td>   <th>  Cond. No.          </th> <td>    4.41</td>\n",
       "</tr>\n",
       "</table><br/><br/>Notes:<br/>[1] Standard Errors assume that the covariance matrix of the errors is correctly specified."
      ],
      "text/plain": [
       "<class 'statsmodels.iolib.summary.Summary'>\n",
       "\"\"\"\n",
       "                            OLS Regression Results                            \n",
       "==============================================================================\n",
       "Dep. Variable:                    YYY   R-squared:                       0.000\n",
       "Model:                            OLS   Adj. R-squared:                  0.000\n",
       "Method:                 Least Squares   F-statistic:                     2.646\n",
       "Date:                Wed, 29 Mar 2023   Prob (F-statistic):              0.104\n",
       "Time:                        15:58:23   Log-Likelihood:                -25659.\n",
       "No. Observations:               35363   AIC:                         5.132e+04\n",
       "Df Residuals:                   35361   BIC:                         5.134e+04\n",
       "Df Model:                           1                                         \n",
       "Covariance Type:            nonrobust                                         \n",
       "==============================================================================\n",
       "                 coef    std err          t      P>|t|      [0.025      0.975]\n",
       "------------------------------------------------------------------------------\n",
       "Intercept      0.5165      0.005     96.255      0.000       0.506       0.527\n",
       "rk            -0.0150      0.009     -1.627      0.104      -0.033       0.003\n",
       "==============================================================================\n",
       "Omnibus:                   120869.202   Durbin-Watson:                   0.779\n",
       "Prob(Omnibus):                  0.000   Jarque-Bera (JB):             5892.072\n",
       "Skew:                          -0.036   Prob(JB):                         0.00\n",
       "Kurtosis:                       1.002   Cond. No.                         4.41\n",
       "==============================================================================\n",
       "\n",
       "Notes:\n",
       "[1] Standard Errors assume that the covariance matrix of the errors is correctly specified.\n",
       "\"\"\""
      ]
     },
     "execution_count": 50,
     "metadata": {},
     "output_type": "execute_result"
    },
    {
     "data": {
      "image/png": "[encoded data removed]",
      "text/plain": [
       "<Figure size 800x550 with 1 Axes>"
      ]
     },
     "metadata": {},
     "output_type": "display_data"
    }
   ],
   "source": [
    "model1 = smf.ols(formula='YYY ~ rk ', data=df1).fit()\n",
    "y_pred = model1.predict(df1[['rk']])\n",
    "y_pred.hist(bins = 500)\n",
    "model1.summary()\n"
   ]
  },
  {
   "cell_type": "code",
   "execution_count": 51,
   "metadata": {},
   "outputs": [
    {
     "name": "stdout",
     "output_type": "stream",
     "text": [
      "ACC:[0.50107454 0.50107454] \n",
      "TPR:[0.48907658 0.51317882] \n",
      "FPR:[0.48682118 0.51092342]\n"
     ]
    },
    {
     "data": {
      "text/plain": [
       "1.0    9054\n",
       "0.0    8628\n",
       "dtype: int64"
      ]
     },
     "execution_count": 51,
     "metadata": {},
     "output_type": "execute_result"
    }
   ],
   "source": [
    "xx = OS[['factor','rk']]\n",
    "yy = OS[['YYY']].copy()\n",
    "\n",
    "y_pred = clf.predict(xx)\n",
    "\n",
    "y_pred[y_pred>0] = 1\n",
    "y_pred[y_pred<0] = 0\n",
    "\n",
    "yy[yy>0] = 1\n",
    "yy[yy<0] = 0\n",
    "\n",
    "matrix = confusion_matrix(yy, y_pred)\n",
    "\n",
    "FP = matrix.sum(axis=0) - np.diag(matrix)  \n",
    "FN = matrix.sum(axis=1) - np.diag(matrix)\n",
    "TP = np.diag(matrix)\n",
    "TN = np.sum(matrix) - (FP + FN + TP)\n",
    "\n",
    "# Sensitivity, hit rate, recall, or true positive rate\n",
    "TPR = TP/(TP+FN)\n",
    "# Specificity or true negative rate\n",
    "TNR = TN/(TN+FP) \n",
    "# Precision or positive predictive value\n",
    "PPV = TP/(TP+FP)\n",
    "# Negative predictive value\n",
    "NPV = TN/(TN+FN)\n",
    "# Fall out or false positive rate\n",
    "FPR = FP/(FP+TN)\n",
    "# False negative rate\n",
    "FNR = FN/(TP+FN)\n",
    "# False discovery rate\n",
    "FDR = FP/(TP+FP)\n",
    "\n",
    "# Overall accuracy\n",
    "ACC = (TP+TN)/(TP+FP+FN+TN)\n",
    "print(\n",
    "    f'ACC:{ACC}',\n",
    "    f'\\nTPR:{TPR}',\n",
    "    f'\\nFPR:{FPR}',\n",
    ")\n",
    "pd.Series(y_pred).value_counts()\n"
   ]
  },
  {
   "cell_type": "code",
   "execution_count": null,
   "metadata": {},
   "outputs": [
    {
     "data": {
      "text/plain": [
       "1.0    12883\n",
       "0.0     8611\n",
       "dtype: int64"
      ]
     },
     "execution_count": 126,
     "metadata": {},
     "output_type": "execute_result"
    }
   ],
   "source": [
    "pd.Series(y_pred).value_counts()\n",
    "# yy.value_counts()"
   ]
  },
  {
   "cell_type": "code",
   "execution_count": null,
   "metadata": {},
   "outputs": [],
   "source": []
  },
  {
   "cell_type": "code",
   "execution_count": null,
   "metadata": {},
   "outputs": [],
   "source": []
  },
  {
   "cell_type": "markdown",
   "metadata": {},
   "source": [
    "#### Hourly"
   ]
  },
  {
   "cell_type": "code",
   "execution_count": null,
   "metadata": {},
   "outputs": [
    {
     "data": {
      "text/plain": [
       "<AxesSubplot:xlabel='openTime'>"
      ]
     },
     "execution_count": 6,
     "metadata": {},
     "output_type": "execute_result"
    },
    {
     "name": "stderr",
     "output_type": "stream",
     "text": [
      "findfont: Font family ['sans-serif'] not found. Falling back to DejaVu Sans.\n",
      "findfont: Generic family 'sans-serif' not found because none of the following families were found: Microsoft JhengHei\n",
      "findfont: Font family ['sans-serif'] not found. Falling back to DejaVu Sans.\n",
      "findfont: Generic family 'sans-serif' not found because none of the following families were found: Microsoft JhengHei\n"
     ]
    },
    {
     "data": {
      "image/png": "[encoded data removed]",
      "text/plain": [
       "<Figure size 800x550 with 1 Axes>"
      ]
     },
     "metadata": {},
     "output_type": "display_data"
    }
   ],
   "source": [
    "select = cond.sum(axis = 1) * selected * 0.01\n",
    "select = select.apply(lambda x:max(np.floor(x),3))\n",
    "\n",
    "\n",
    "# rk = factor[cond].rank(axis = 1,ascending = True,method = 'dense')\n",
    "rk = factor[cond].rank(axis = 1,pct = True,method = 'dense')\n",
    "\n",
    "# long_signal = rk.copy()\n",
    "# long_signal[:] = 0\n",
    "# short_signal = long_signal.copy()\n",
    "\n",
    "# long_signal[rk.gt(cond.sum(axis = 1) - select,axis = 0)] = 1 \n",
    "# short_signal[rk.le(select,axis = 0)] = -1 \n",
    "\n",
    "\n",
    "\n",
    "rk = factor[cond].rank(axis = 1,pct=True,method = 'dense',ascending = '_Reverse' not in name)\n",
    "\n",
    "long_signal = rk.add(-rk.mean(axis = 1),axis= 0)\n",
    "long_signal[long_signal<0] = 0\n",
    "short_signal = rk.add(-rk.mean(axis = 1),axis= 0)\n",
    "short_signal[short_signal>0] = 0\n",
    "\n",
    "long_result = fast_backtest(ret[subset],long_signal,fee = 0)#.sum(axis = 1)\n",
    "short_result = fast_backtest(ret[subset],short_signal,fee = 0)#.sum(axis = 1)\n",
    "\n",
    "result = ((long_result + short_result)/2).sum(axis = 1).loc[datetime(2021,1,1):]\n",
    "result.cumsum().plot()"
   ]
  },
  {
   "cell_type": "markdown",
   "metadata": {},
   "source": [
    "#### Test"
   ]
  },
  {
   "cell_type": "code",
   "execution_count": null,
   "metadata": {},
   "outputs": [],
   "source": [
    "ret_t1 = ret[market_filter].shift(-1).loc[datetime(2021,1,1):].stack().reset_index().rename({0:'return(t+1)'},axis = 1)\n",
    "\n",
    "## RankIC\n",
    "rk = factor.rank(axis = 1,ascending = True,method = 'dense')\n",
    "ff = rk.resample('D').last().loc[datetime(2021,1,1):]#.stack().reset_index().rename({0:'factor'},axis = 1)\n",
    "ff = ff.stack().reset_index().rename({0:'factor'},axis = 1)\n",
    "df = pd.merge(ff,ret_t1,on = ['openTime','symbol'])\n",
    "Rank_IC = df.groupby('openTime').apply(lambda x: x.corr().iloc[1,0])\n",
    "Rank_IR = Rank_IC.quantile(0.5)/Rank_IC.std()#.plot.bar()\n",
    "\n",
    "IS_Rank_IC = Rank_IC.loc[datetime(2021,1,1):INSAMPLE_END_DATE]\n",
    "IS_Rank_IR = IS_Rank_IC.quantile(0.5)/IS_Rank_IC.std()\n",
    "IS_Rank_IC = IS_Rank_IC.quantile(0.5)\n",
    "OS_Rank_IC = Rank_IC.loc[INSAMPLE_END_DATE:VALID_END_DATE]\n",
    "OS_Rank_IR = OS_Rank_IC.quantile(0.5)/OS_Rank_IC.std()\n",
    "OS_Rank_IC = OS_Rank_IC.quantile(0.5)\n",
    "Rank_IC = Rank_IC.quantile(0.5)\n",
    "\n"
   ]
  },
  {
   "cell_type": "code",
   "execution_count": null,
   "metadata": {},
   "outputs": [
    {
     "data": {
      "text/html": [
       "<div>\n",
       "<style scoped>\n",
       "    .dataframe tbody tr th:only-of-type {\n",
       "        vertical-align: middle;\n",
       "    }\n",
       "\n",
       "    .dataframe tbody tr th {\n",
       "        vertical-align: top;\n",
       "    }\n",
       "\n",
       "    .dataframe thead th {\n",
       "        text-align: right;\n",
       "    }\n",
       "</style>\n",
       "<table border=\"1\" class=\"dataframe\">\n",
       "  <thead>\n",
       "    <tr style=\"text-align: right;\">\n",
       "      <th></th>\n",
       "      <th>factor</th>\n",
       "      <th>return(t+1)</th>\n",
       "    </tr>\n",
       "  </thead>\n",
       "  <tbody>\n",
       "    <tr>\n",
       "      <th>factor</th>\n",
       "      <td>1.000000</td>\n",
       "      <td>0.002562</td>\n",
       "    </tr>\n",
       "    <tr>\n",
       "      <th>return(t+1)</th>\n",
       "      <td>0.002562</td>\n",
       "      <td>1.000000</td>\n",
       "    </tr>\n",
       "  </tbody>\n",
       "</table>\n",
       "</div>"
      ],
      "text/plain": [
       "               factor  return(t+1)\n",
       "factor       1.000000     0.002562\n",
       "return(t+1)  0.002562     1.000000"
      ]
     },
     "execution_count": 17,
     "metadata": {},
     "output_type": "execute_result"
    }
   ],
   "source": [
    "df[['factor','return(t+1)']].corr()"
   ]
  },
  {
   "cell_type": "code",
   "execution_count": null,
   "metadata": {},
   "outputs": [],
   "source": []
  },
  {
   "cell_type": "code",
   "execution_count": null,
   "metadata": {},
   "outputs": [],
   "source": []
  },
  {
   "cell_type": "code",
   "execution_count": null,
   "metadata": {},
   "outputs": [],
   "source": []
  },
  {
   "cell_type": "code",
   "execution_count": null,
   "metadata": {},
   "outputs": [],
   "source": []
  },
  {
   "cell_type": "code",
   "execution_count": null,
   "metadata": {},
   "outputs": [
    {
     "data": {
      "text/html": [
       "<div>\n",
       "<style scoped>\n",
       "    .dataframe tbody tr th:only-of-type {\n",
       "        vertical-align: middle;\n",
       "    }\n",
       "\n",
       "    .dataframe tbody tr th {\n",
       "        vertical-align: top;\n",
       "    }\n",
       "\n",
       "    .dataframe thead th {\n",
       "        text-align: right;\n",
       "    }\n",
       "</style>\n",
       "<table border=\"1\" class=\"dataframe\">\n",
       "  <thead>\n",
       "    <tr style=\"text-align: right;\">\n",
       "      <th></th>\n",
       "      <th>0</th>\n",
       "      <th>1</th>\n",
       "      <th>2</th>\n",
       "      <th>3</th>\n",
       "      <th>4</th>\n",
       "      <th>5</th>\n",
       "      <th>Return</th>\n",
       "    </tr>\n",
       "    <tr>\n",
       "      <th>openTime</th>\n",
       "      <th></th>\n",
       "      <th></th>\n",
       "      <th></th>\n",
       "      <th></th>\n",
       "      <th></th>\n",
       "      <th></th>\n",
       "      <th></th>\n",
       "    </tr>\n",
       "  </thead>\n",
       "  <tbody>\n",
       "    <tr>\n",
       "      <th>2021-01-01 00:00:00</th>\n",
       "      <td>-128.028311</td>\n",
       "      <td>-82.473161</td>\n",
       "      <td>-30.808563</td>\n",
       "      <td>18.560013</td>\n",
       "      <td>19.372797</td>\n",
       "      <td>328.754258</td>\n",
       "      <td>4.0</td>\n",
       "    </tr>\n",
       "    <tr>\n",
       "      <th>2021-01-01 01:00:00</th>\n",
       "      <td>-592.021568</td>\n",
       "      <td>-68.463150</td>\n",
       "      <td>28.076376</td>\n",
       "      <td>121.222840</td>\n",
       "      <td>376.021719</td>\n",
       "      <td>449.364640</td>\n",
       "      <td>0.0</td>\n",
       "    </tr>\n",
       "    <tr>\n",
       "      <th>2021-01-01 02:00:00</th>\n",
       "      <td>-124.689403</td>\n",
       "      <td>-31.017086</td>\n",
       "      <td>-27.968178</td>\n",
       "      <td>52.052652</td>\n",
       "      <td>167.066099</td>\n",
       "      <td>0.000000</td>\n",
       "      <td>0.0</td>\n",
       "    </tr>\n",
       "    <tr>\n",
       "      <th>2021-01-01 03:00:00</th>\n",
       "      <td>-46.717709</td>\n",
       "      <td>-20.811248</td>\n",
       "      <td>-16.159982</td>\n",
       "      <td>-9.228619</td>\n",
       "      <td>22.025097</td>\n",
       "      <td>554.686097</td>\n",
       "      <td>-11.0</td>\n",
       "    </tr>\n",
       "    <tr>\n",
       "      <th>2021-01-01 04:00:00</th>\n",
       "      <td>-74.817039</td>\n",
       "      <td>-22.709003</td>\n",
       "      <td>-4.638899</td>\n",
       "      <td>16.092062</td>\n",
       "      <td>57.370375</td>\n",
       "      <td>1809.678387</td>\n",
       "      <td>0.0</td>\n",
       "    </tr>\n",
       "    <tr>\n",
       "      <th>...</th>\n",
       "      <td>...</td>\n",
       "      <td>...</td>\n",
       "      <td>...</td>\n",
       "      <td>...</td>\n",
       "      <td>...</td>\n",
       "      <td>...</td>\n",
       "      <td>...</td>\n",
       "    </tr>\n",
       "    <tr>\n",
       "      <th>2023-02-23 02:00:00</th>\n",
       "      <td>-95.070560</td>\n",
       "      <td>-67.352527</td>\n",
       "      <td>-47.906508</td>\n",
       "      <td>251.231967</td>\n",
       "      <td>257.956934</td>\n",
       "      <td>1732.152642</td>\n",
       "      <td>0.0</td>\n",
       "    </tr>\n",
       "    <tr>\n",
       "      <th>2023-02-23 03:00:00</th>\n",
       "      <td>-269.168627</td>\n",
       "      <td>-188.544757</td>\n",
       "      <td>-166.136960</td>\n",
       "      <td>7.727623</td>\n",
       "      <td>17.766879</td>\n",
       "      <td>17.913911</td>\n",
       "      <td>0.0</td>\n",
       "    </tr>\n",
       "    <tr>\n",
       "      <th>2023-02-23 04:00:00</th>\n",
       "      <td>-39.828980</td>\n",
       "      <td>-11.081722</td>\n",
       "      <td>-1.800278</td>\n",
       "      <td>30.020273</td>\n",
       "      <td>131.872786</td>\n",
       "      <td>358.179112</td>\n",
       "      <td>0.0</td>\n",
       "    </tr>\n",
       "    <tr>\n",
       "      <th>2023-02-23 05:00:00</th>\n",
       "      <td>-1194.263838</td>\n",
       "      <td>-421.899215</td>\n",
       "      <td>-138.399408</td>\n",
       "      <td>20.253345</td>\n",
       "      <td>30.150960</td>\n",
       "      <td>58.627753</td>\n",
       "      <td>-1.0</td>\n",
       "    </tr>\n",
       "    <tr>\n",
       "      <th>2023-02-23 06:00:00</th>\n",
       "      <td>-58.245076</td>\n",
       "      <td>-21.662467</td>\n",
       "      <td>2.853683</td>\n",
       "      <td>4.935855</td>\n",
       "      <td>13.593136</td>\n",
       "      <td>363.308497</td>\n",
       "      <td>0.0</td>\n",
       "    </tr>\n",
       "  </tbody>\n",
       "</table>\n",
       "<p>18385 rows × 7 columns</p>\n",
       "</div>"
      ],
      "text/plain": [
       "                               0           1           2           3  \\\n",
       "openTime                                                               \n",
       "2021-01-01 00:00:00  -128.028311  -82.473161  -30.808563   18.560013   \n",
       "2021-01-01 01:00:00  -592.021568  -68.463150   28.076376  121.222840   \n",
       "2021-01-01 02:00:00  -124.689403  -31.017086  -27.968178   52.052652   \n",
       "2021-01-01 03:00:00   -46.717709  -20.811248  -16.159982   -9.228619   \n",
       "2021-01-01 04:00:00   -74.817039  -22.709003   -4.638899   16.092062   \n",
       "...                          ...         ...         ...         ...   \n",
       "2023-02-23 02:00:00   -95.070560  -67.352527  -47.906508  251.231967   \n",
       "2023-02-23 03:00:00  -269.168627 -188.544757 -166.136960    7.727623   \n",
       "2023-02-23 04:00:00   -39.828980  -11.081722   -1.800278   30.020273   \n",
       "2023-02-23 05:00:00 -1194.263838 -421.899215 -138.399408   20.253345   \n",
       "2023-02-23 06:00:00   -58.245076  -21.662467    2.853683    4.935855   \n",
       "\n",
       "                              4            5  Return  \n",
       "openTime                                              \n",
       "2021-01-01 00:00:00   19.372797   328.754258     4.0  \n",
       "2021-01-01 01:00:00  376.021719   449.364640     0.0  \n",
       "2021-01-01 02:00:00  167.066099     0.000000     0.0  \n",
       "2021-01-01 03:00:00   22.025097   554.686097   -11.0  \n",
       "2021-01-01 04:00:00   57.370375  1809.678387     0.0  \n",
       "...                         ...          ...     ...  \n",
       "2023-02-23 02:00:00  257.956934  1732.152642     0.0  \n",
       "2023-02-23 03:00:00   17.766879    17.913911     0.0  \n",
       "2023-02-23 04:00:00  131.872786   358.179112     0.0  \n",
       "2023-02-23 05:00:00   30.150960    58.627753    -1.0  \n",
       "2023-02-23 06:00:00   13.593136   363.308497     0.0  \n",
       "\n",
       "[18385 rows x 7 columns]"
      ]
     },
     "execution_count": 64,
     "metadata": {},
     "output_type": "execute_result"
    }
   ],
   "source": [
    "data = (long_result + short_result) * factor\n",
    "data = data[data!=0].loc[datetime(2021,1,1):]\n",
    "# data = data.stack().reset_index().sort_values(['openTime',0]).rename({0:'factor'},axis = 1)\n",
    "# data = pd.merge(data,result.reset_index().rename({0:'Return'},axis = 1).shift(-1),on = 'openTime')\n",
    "data = data.values\n",
    "data.sort(axis = 1)\n",
    "data = pd.DataFrame(data,index = factor.loc[datetime(2021,1,1):].index)\n",
    "data = data[data.columns[:6]]\n",
    "data = pd.merge(data,result.reset_index().rename({0:'Return'},axis = 1),on = 'openTime').fillna(0).set_index('openTime')\n",
    "data.Return = (data.Return/10**1 ).astype(int)#\n",
    "data = data[data.Return<data.Return.quantile(0.99)]\n",
    "data = data[data.Return>data.Return.quantile(0.01)]\n",
    "# data = data[data.Return != 0]\n",
    "data.Return = data.Return.shift(-1)\n",
    "data = data.iloc[:-1]\n",
    "data"
   ]
  },
  {
   "cell_type": "code",
   "execution_count": null,
   "metadata": {},
   "outputs": [
    {
     "ename": "NameError",
     "evalue": "name 'xx' is not defined",
     "output_type": "error",
     "traceback": [
      "\u001b[0;31m---------------------------------------------------------------------------\u001b[0m",
      "\u001b[0;31mNameError\u001b[0m                                 Traceback (most recent call last)",
      "\u001b[1;32m/home/frank/document/Python/Factors/Factor_LR.ipynb Cell 10'\u001b[0m in \u001b[0;36m<cell line: 1>\u001b[0;34m()\u001b[0m\n\u001b[0;32m----> <a href='vscode-notebook-cell://ssh-remote%2Bws.quantrend.ai/home/frank/document/Python/Factors/Factor_LR.ipynb#ch0000039vscode-remote?line=0'>1</a>\u001b[0m xx\u001b[39m.\u001b[39mstack()\u001b[39m.\u001b[39mabs()\u001b[39m.\u001b[39mdescribe()\n",
      "\u001b[0;31mNameError\u001b[0m: name 'xx' is not defined"
     ]
    }
   ],
   "source": [
    "xx.stack().abs().describe()#.hist(bins = 500)"
   ]
  },
  {
   "cell_type": "code",
   "execution_count": null,
   "metadata": {},
   "outputs": [
    {
     "data": {
      "text/plain": [
       "<AxesSubplot:>"
      ]
     },
     "execution_count": 112,
     "metadata": {},
     "output_type": "execute_result"
    },
    {
     "data": {
      "image/png": "[encoded data removed]",
      "text/plain": [
       "<Figure size 800x550 with 1 Axes>"
      ]
     },
     "metadata": {},
     "output_type": "display_data"
    }
   ],
   "source": [
    "data.Return.hist(bins = 500)"
   ]
  },
  {
   "cell_type": "code",
   "execution_count": null,
   "metadata": {},
   "outputs": [],
   "source": [
    "import lightgbm as lgb\n",
    "from sklearn.tree import DecisionTreeClassifier # Import Decision Tree Classifier\n",
    "\n",
    "# clf = lgb.LGBMClassifier(max_depth = 6, num_leaves = 2,n_estimators = 10,subsample_for_bin = 500)\n",
    "clf = DecisionTreeClassifier(max_depth = 4)\n"
   ]
  },
  {
   "cell_type": "code",
   "execution_count": null,
   "metadata": {},
   "outputs": [
    {
     "ename": "AttributeError",
     "evalue": "'str' object has no attribute 'loc'",
     "output_type": "error",
     "traceback": [
      "\u001b[0;31m---------------------------------------------------------------------------\u001b[0m",
      "\u001b[0;31mAttributeError\u001b[0m                            Traceback (most recent call last)",
      "\u001b[1;32m/home/frank/document/Python/Factors/Factor_LR.ipynb Cell 13'\u001b[0m in \u001b[0;36m<cell line: 1>\u001b[0;34m()\u001b[0m\n\u001b[0;32m----> <a href='vscode-notebook-cell://ssh-remote%2Bws.quantrend.ai/home/frank/document/Python/Factors/Factor_LR.ipynb#ch0000012vscode-remote?line=0'>1</a>\u001b[0m IS \u001b[39m=\u001b[39m data\u001b[39m.\u001b[39;49mloc[datetime(\u001b[39m2021\u001b[39m,\u001b[39m1\u001b[39m,\u001b[39m1\u001b[39m):INSAMPLE_END]\u001b[39m.\u001b[39mcopy()\u001b[39m#.corr()\u001b[39;00m\n\u001b[1;32m      <a href='vscode-notebook-cell://ssh-remote%2Bws.quantrend.ai/home/frank/document/Python/Factors/Factor_LR.ipynb#ch0000012vscode-remote?line=1'>2</a>\u001b[0m IS \u001b[39m=\u001b[39m IS[IS\u001b[39m.\u001b[39mReturn \u001b[39m!=\u001b[39m \u001b[39m0\u001b[39m]\n\u001b[1;32m      <a href='vscode-notebook-cell://ssh-remote%2Bws.quantrend.ai/home/frank/document/Python/Factors/Factor_LR.ipynb#ch0000012vscode-remote?line=2'>3</a>\u001b[0m IS[IS\u001b[39m.\u001b[39mReturn\u001b[39m.\u001b[39mabs()\u001b[39m<\u001b[39m\u001b[39m=\u001b[39m\u001b[39m1\u001b[39m] \u001b[39m=\u001b[39m \u001b[39m0\u001b[39m\n",
      "\u001b[0;31mAttributeError\u001b[0m: 'str' object has no attribute 'loc'"
     ]
    }
   ],
   "source": [
    "IS = data.loc[datetime(2021,1,1):INSAMPLE_END].copy()#.corr()\n",
    "IS = IS[IS.Return != 0]\n",
    "IS[IS.Return.abs()<=1] = 0\n",
    "\n",
    "IS[IS.Return>=1] = 1\n",
    "IS[IS.Return<=-1] = -1\n",
    "# IS = IS[IS.Return != 0]\n",
    "\n",
    "OS = data.loc[INSAMPLE_END:].copy()#.corr()\n",
    "\n",
    "\n",
    "\n",
    "xx = IS[data.columns[:6]]\n",
    "yy = IS['Return']\n",
    "\n",
    "clf = clf.fit(xx, yy)\n",
    "y_pred = clf.predict(OS[data.columns[:6]])\n",
    "threshold = 0\n",
    "# y_pred[np.abs(y_pred)<=threshold] = 0\n",
    "# y_pred[y_pred>threshold] = 1\n",
    "# y_pred[y_pred<-threshold] = -1\n",
    "\n",
    "yy = OS['Return'].copy()\n",
    "yy[(yy.abs()<threshold)] = 0\n",
    "yy[yy<-threshold] = -1\n",
    "yy[yy>threshold] = 1\n",
    "(yy-y_pred).abs().value_counts()"
   ]
  },
  {
   "cell_type": "code",
   "execution_count": null,
   "metadata": {},
   "outputs": [
    {
     "data": {
      "text/plain": [
       " 0    1488\n",
       " 1    1362\n",
       "-1    1293\n",
       "Name: Return, dtype: int64"
      ]
     },
     "execution_count": 56,
     "metadata": {},
     "output_type": "execute_result"
    }
   ],
   "source": [
    "IS.Return.value_counts()"
   ]
  },
  {
   "cell_type": "code",
   "execution_count": null,
   "metadata": {},
   "outputs": [
    {
     "data": {
      "text/plain": [
       " 0.0    14154\n",
       "-1.0       67\n",
       " 1.0       21\n",
       "dtype: int64"
      ]
     },
     "execution_count": 102,
     "metadata": {},
     "output_type": "execute_result"
    }
   ],
   "source": [
    "y_pred = clf.predict(OS[data.columns[:6]])\n",
    "pd.Series(y_pred).value_counts()"
   ]
  },
  {
   "cell_type": "code",
   "execution_count": null,
   "metadata": {},
   "outputs": [
    {
     "ename": "NameError",
     "evalue": "name 'model' is not defined",
     "output_type": "error",
     "traceback": [
      "\u001b[0;31m---------------------------------------------------------------------------\u001b[0m",
      "\u001b[0;31mNameError\u001b[0m                                 Traceback (most recent call last)",
      "\u001b[1;32m/home/frank/document/Python/Factors/Factor_LR.ipynb Cell 16'\u001b[0m in \u001b[0;36m<cell line: 14>\u001b[0;34m()\u001b[0m\n\u001b[1;32m     <a href='vscode-notebook-cell://ssh-remote%2Bws.quantrend.ai/home/frank/document/Python/Factors/Factor_LR.ipynb#ch0000011vscode-remote?line=10'>11</a>\u001b[0m \u001b[39m# model = sm.OLS(yy, x).fit()\u001b[39;00m\n\u001b[1;32m     <a href='vscode-notebook-cell://ssh-remote%2Bws.quantrend.ai/home/frank/document/Python/Factors/Factor_LR.ipynb#ch0000011vscode-remote?line=11'>12</a>\u001b[0m clf\u001b[39m.\u001b[39mfit(xx, yy)\n\u001b[0;32m---> <a href='vscode-notebook-cell://ssh-remote%2Bws.quantrend.ai/home/frank/document/Python/Factors/Factor_LR.ipynb#ch0000011vscode-remote?line=13'>14</a>\u001b[0m \u001b[39mprint\u001b[39m(model\u001b[39m.\u001b[39mparams)\n\u001b[1;32m     <a href='vscode-notebook-cell://ssh-remote%2Bws.quantrend.ai/home/frank/document/Python/Factors/Factor_LR.ipynb#ch0000011vscode-remote?line=15'>16</a>\u001b[0m os_pred \u001b[39m=\u001b[39m model\u001b[39m.\u001b[39mpredict(sm\u001b[39m.\u001b[39madd_constant(OS[data\u001b[39m.\u001b[39mcolumns[:\u001b[39m6\u001b[39m]]))\n\u001b[1;32m     <a href='vscode-notebook-cell://ssh-remote%2Bws.quantrend.ai/home/frank/document/Python/Factors/Factor_LR.ipynb#ch0000011vscode-remote?line=16'>17</a>\u001b[0m \u001b[39m# os_pred = model.predict(OS['Factor'])\u001b[39;00m\n\u001b[1;32m     <a href='vscode-notebook-cell://ssh-remote%2Bws.quantrend.ai/home/frank/document/Python/Factors/Factor_LR.ipynb#ch0000011vscode-remote?line=17'>18</a>\u001b[0m \n\u001b[1;32m     <a href='vscode-notebook-cell://ssh-remote%2Bws.quantrend.ai/home/frank/document/Python/Factors/Factor_LR.ipynb#ch0000011vscode-remote?line=18'>19</a>\u001b[0m \u001b[39m# os_pred.plot.hist(bins = 500,figsize = (12,4))\u001b[39;00m\n",
      "\u001b[0;31mNameError\u001b[0m: name 'model' is not defined"
     ]
    }
   ],
   "source": [
    "IS = data.loc[datetime(2021,1,1):INSAMPLE_END].copy()#.corr()\n",
    "OS = data.loc[INSAMPLE_END:].copy()#.corr()\n",
    "# IS['Ret(t+1)'] = (IS['Ret(t+1)']*10).astype(int)\n",
    "# IS = IS[(IS>IS['Ret(t+1)'].quantile(0.01)) & (IS<IS['Ret(t+1)'].quantile(0.99))].dropna()\n",
    "# IS = IS[(IS>IS['Factor'].quantile(0.01)) | (IS<IS['Factor'].quantile(0.99))]\n",
    "\n",
    "xx = IS[data.columns[:6]]\n",
    "yy = IS['Return']\n",
    "\n",
    "x = sm.add_constant(xx)\n",
    "# model = sm.OLS(yy, x).fit()\n",
    "clf.fit(xx, yy)\n",
    "\n",
    "print(model.params)\n",
    "\n",
    "os_pred = model.predict(sm.add_constant(OS[data.columns[:6]]))\n",
    "# os_pred = model.predict(OS['Factor'])\n",
    "\n",
    "# os_pred.plot.hist(bins = 500,figsize = (12,4))\n",
    "\n",
    "mse = (OS['Return']-os_pred).mean()\n",
    "print(f'mse:{mse:.2f}')\n",
    "# os_pred.describe()"
   ]
  },
  {
   "cell_type": "code",
   "execution_count": null,
   "metadata": {},
   "outputs": [
    {
     "data": {
      "text/plain": [
       "<AxesSubplot:xlabel='openTime'>"
      ]
     },
     "execution_count": 128,
     "metadata": {},
     "output_type": "execute_result"
    },
    {
     "data": {
      "image/png": "[encoded data removed]",
      "text/plain": [
       "<Figure size 800x550 with 1 Axes>"
      ]
     },
     "metadata": {},
     "output_type": "display_data"
    }
   ],
   "source": [
    "signal1 = y_pred.copy()\n",
    "signal1[signal1<0] = 0\n",
    "\n",
    "long_signal[rk.gt(cond.sum(axis = 1) - select,axis = 0)] = 1 \n",
    "short_signal[rk.le(select,axis = 0)] = -1 \n",
    "\n",
    "signal = long_signal + short_signal# * -1\n",
    "signal = signal.loc[OS.index]#.multiply(signal1,axis = 0)\n",
    "\n",
    "result1 = fast_backtest(ret[subset],signal,fee = 4)#.sum(axis = 1)\n",
    "result1.sum(axis = 1).cumsum().plot()\n",
    "\n",
    "signal = signal.loc[OS.index].multiply(signal1,axis = 0)\n",
    "result1 = fast_backtest(ret[subset],signal,fee = 4)#.sum(axis = 1)\n",
    "result1.sum(axis = 1).cumsum().plot()"
   ]
  },
  {
   "cell_type": "code",
   "execution_count": null,
   "metadata": {},
   "outputs": [
    {
     "data": {
      "text/plain": [
       "array([ 0,  0, -1, ...,  1,  0,  0])"
      ]
     },
     "execution_count": 36,
     "metadata": {},
     "output_type": "execute_result"
    }
   ],
   "source": [
    "signal1"
   ]
  },
  {
   "cell_type": "code",
   "execution_count": null,
   "metadata": {},
   "outputs": [],
   "source": []
  },
  {
   "cell_type": "code",
   "execution_count": null,
   "metadata": {},
   "outputs": [],
   "source": []
  },
  {
   "cell_type": "code",
   "execution_count": null,
   "metadata": {},
   "outputs": [],
   "source": []
  },
  {
   "cell_type": "code",
   "execution_count": null,
   "metadata": {},
   "outputs": [],
   "source": [
    "outsample = metrics.iloc[start:]\n",
    "xx = outsample['Insample Long Beta'].to_list() + outsample['Insample Short Beta'].to_list()\n",
    "yy = outsample['Long Outsample Fitness'].to_list() + outsample['Short Outsample Fitness'].to_list()\n",
    "\n",
    "y_pred = model.predict(xx)\n",
    "y_pred[y_pred>=0] = 1\n",
    "y_pred[y_pred<0] = -1\n",
    "\n",
    "yy = np.array(yy)\n",
    "yy[yy>=0] = 1\n",
    "yy[yy<0] = -1\n",
    "\n",
    "matrix = confusion_matrix(yy, y_pred)\n",
    "\n",
    "FP = matrix.sum(axis=0) - np.diag(matrix)  \n",
    "FN = matrix.sum(axis=1) - np.diag(matrix)\n",
    "TP = np.diag(matrix)\n",
    "TN = np.sum(matrix) - (FP + FN + TP)\n",
    "\n",
    "# Sensitivity, hit rate, recall, or true positive rate\n",
    "TPR = TP/(TP+FN)\n",
    "# Specificity or true negative rate\n",
    "TNR = TN/(TN+FP) \n",
    "# Precision or positive predictive value\n",
    "PPV = TP/(TP+FP)\n",
    "# Negative predictive value\n",
    "NPV = TN/(TN+FN)\n",
    "# Fall out or false positive rate\n",
    "FPR = FP/(FP+TN)\n",
    "# False negative rate\n",
    "FNR = FN/(TP+FN)\n",
    "# False discovery rate\n",
    "FDR = FP/(TP+FP)\n",
    "\n",
    "# Overall accuracy\n",
    "ACC = (TP+TN)/(TP+FP+FN+TN)\n",
    "ACC"
   ]
  },
  {
   "cell_type": "code",
   "execution_count": null,
   "metadata": {},
   "outputs": [],
   "source": []
  }
 ],
 "metadata": {
  "interpreter": {
   "hash": "31f2aee4e71d21fbe5cf8b01ff0e069b9275f58929596ceb00d14d90e3e16cd6"
  },
  "kernelspec": {
   "display_name": "Python 3.10.6 64-bit",
   "language": "python",
   "name": "python3"
  },
  "language_info": {
   "codemirror_mode": {
    "name": "ipython",
    "version": 3
   },
   "file_extension": ".py",
   "mimetype": "text/x-python",
   "name": "python",
   "nbconvert_exporter": "python",
   "pygments_lexer": "ipython3",
   "version": "3.10.12"
  },
  "orig_nbformat": 4
 },
 "nbformat": 4,
 "nbformat_minor": 2
}
